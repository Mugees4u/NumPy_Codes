{
 "cells": [
  {
   "cell_type": "code",
   "execution_count": 3,
   "id": "09f63053",
   "metadata": {},
   "outputs": [],
   "source": [
    "import numpy as np"
   ]
  },
  {
   "cell_type": "code",
   "execution_count": 4,
   "id": "0176c781",
   "metadata": {},
   "outputs": [
    {
     "data": {
      "text/plain": [
       "[0, 258, 0, 564, 7, 9, 10, 21, 564, 64]"
      ]
     },
     "execution_count": 4,
     "metadata": {},
     "output_type": "execute_result"
    }
   ],
   "source": [
    "sales = [0, 258,0, 564, 7, 9, 10, 21, 564, 64]\n",
    "sales_arry = np.array(sales)\n",
    "sales\n"
   ]
  },
  {
   "cell_type": "markdown",
   "id": "0f32cf38",
   "metadata": {},
   "source": [
    "Key Properties of an Arrays:\n",
    "\n",
    "- ndim - the nnumber of diensions (axis) in the array\n",
    "   \n",
    "- shape - the size of the each dimension\n",
    "\n",
    "- size - the total numbers of elements in the array\n",
    "\n",
    "- dtype - the data types of the elements in the array"
   ]
  },
  {
   "cell_type": "code",
   "execution_count": 6,
   "id": "1952fb91",
   "metadata": {},
   "outputs": [
    {
     "data": {
      "text/plain": [
       "numpy.ndarray"
      ]
     },
     "execution_count": 6,
     "metadata": {},
     "output_type": "execute_result"
    }
   ],
   "source": [
    "#types of array\n",
    "\n",
    "sales = [0, 56, 98, 78, 62, 145, 13]\n",
    "np_arr = np.array(sales)\n",
    "np_arr\n",
    "type(np_arr)"
   ]
  },
  {
   "cell_type": "code",
   "execution_count": 9,
   "id": "e72aed27",
   "metadata": {},
   "outputs": [
    {
     "name": "stdout",
     "output_type": "stream",
     "text": [
      "ndim: 1\n"
     ]
    }
   ],
   "source": [
    "print(f\"ndim: {np_arr.ndim}\")"
   ]
  },
  {
   "cell_type": "code",
   "execution_count": 13,
   "id": "830f26ab",
   "metadata": {},
   "outputs": [
    {
     "name": "stdout",
     "output_type": "stream",
     "text": [
      "shape: (7,)\n"
     ]
    }
   ],
   "source": [
    "print(f\"shape: {np_arr.shape}\")"
   ]
  },
  {
   "cell_type": "code",
   "execution_count": 14,
   "id": "fbb1b32b",
   "metadata": {},
   "outputs": [
    {
     "name": "stdout",
     "output_type": "stream",
     "text": [
      "size: (7,)\n"
     ]
    }
   ],
   "source": [
    "print(f\"size: {np_arr.shape}\")"
   ]
  },
  {
   "cell_type": "code",
   "execution_count": 15,
   "id": "d6811fb7",
   "metadata": {},
   "outputs": [
    {
     "name": "stdout",
     "output_type": "stream",
     "text": [
      "dtype: int32\n"
     ]
    }
   ],
   "source": [
    "print(f\"dtype: {np_arr.dtype}\")"
   ]
  },
  {
   "cell_type": "code",
   "execution_count": 16,
   "id": "3e6ab6e3",
   "metadata": {},
   "outputs": [],
   "source": [
    "#Converting a nested list creates a m-dimensional array\n",
    "#Note: The nested list must be equal length\n",
    "\n",
    "sales = [[16, 69, 78], [74, 65, 12]]\n",
    "n_sales = np.array(sales)"
   ]
  },
  {
   "cell_type": "code",
   "execution_count": 17,
   "id": "8851aa23",
   "metadata": {},
   "outputs": [
    {
     "data": {
      "text/plain": [
       "array([[16, 69, 78],\n",
       "       [74, 65, 12]])"
      ]
     },
     "execution_count": 17,
     "metadata": {},
     "output_type": "execute_result"
    }
   ],
   "source": [
    "n_sales"
   ]
  },
  {
   "cell_type": "code",
   "execution_count": 18,
   "id": "7b36e1a6",
   "metadata": {},
   "outputs": [
    {
     "data": {
      "text/plain": [
       "numpy.ndarray"
      ]
     },
     "execution_count": 18,
     "metadata": {},
     "output_type": "execute_result"
    }
   ],
   "source": [
    "type(n_sales)"
   ]
  },
  {
   "cell_type": "code",
   "execution_count": 21,
   "id": "282bc70c",
   "metadata": {},
   "outputs": [
    {
     "name": "stdout",
     "output_type": "stream",
     "text": [
      "2\n"
     ]
    }
   ],
   "source": [
    "print(n_sales.ndim)"
   ]
  },
  {
   "cell_type": "code",
   "execution_count": 22,
   "id": "0a71d923",
   "metadata": {},
   "outputs": [
    {
     "data": {
      "text/plain": [
       "(2, 3)"
      ]
     },
     "execution_count": 22,
     "metadata": {},
     "output_type": "execute_result"
    }
   ],
   "source": [
    "n_sales.shape"
   ]
  },
  {
   "cell_type": "code",
   "execution_count": 23,
   "id": "3fa28f1c",
   "metadata": {},
   "outputs": [
    {
     "data": {
      "text/plain": [
       "dtype('int32')"
      ]
     },
     "execution_count": 23,
     "metadata": {},
     "output_type": "execute_result"
    }
   ],
   "source": [
    "n_sales.dtype"
   ]
  },
  {
   "cell_type": "code",
   "execution_count": 24,
   "id": "b6508bdd",
   "metadata": {},
   "outputs": [
    {
     "data": {
      "text/plain": [
       "6"
      ]
     },
     "execution_count": 24,
     "metadata": {},
     "output_type": "execute_result"
    }
   ],
   "source": [
    "n_sales.size"
   ]
  },
  {
   "cell_type": "code",
   "execution_count": 25,
   "id": "c7ce3fde",
   "metadata": {},
   "outputs": [
    {
     "data": {
      "text/plain": [
       "array([[16, 69, 78],\n",
       "       [74, 65, 12]], dtype=int8)"
      ]
     },
     "execution_count": 25,
     "metadata": {},
     "output_type": "execute_result"
    }
   ],
   "source": [
    "np.byte(n_sales)"
   ]
  },
  {
   "cell_type": "code",
   "execution_count": 29,
   "id": "0ff4c4b2",
   "metadata": {},
   "outputs": [
    {
     "data": {
      "text/plain": [
       "array([0, 1, 2, 3, 4])"
      ]
     },
     "execution_count": 29,
     "metadata": {},
     "output_type": "execute_result"
    }
   ],
   "source": [
    "a = np.array(range(5))\n",
    "a"
   ]
  },
  {
   "cell_type": "code",
   "execution_count": 31,
   "id": "71741020",
   "metadata": {},
   "outputs": [],
   "source": [
    "a_2d = np.array((range(5), range(5)))"
   ]
  },
  {
   "cell_type": "code",
   "execution_count": 32,
   "id": "92926b92",
   "metadata": {},
   "outputs": [
    {
     "data": {
      "text/plain": [
       "array([[0, 1, 2, 3, 4],\n",
       "       [0, 1, 2, 3, 4]])"
      ]
     },
     "execution_count": 32,
     "metadata": {},
     "output_type": "execute_result"
    }
   ],
   "source": [
    "a_2d"
   ]
  },
  {
   "cell_type": "code",
   "execution_count": 33,
   "id": "bffa4f29",
   "metadata": {},
   "outputs": [
    {
     "data": {
      "text/plain": [
       "(5,)"
      ]
     },
     "execution_count": 33,
     "metadata": {},
     "output_type": "execute_result"
    }
   ],
   "source": [
    "a.shape"
   ]
  },
  {
   "cell_type": "code",
   "execution_count": 34,
   "id": "699cb830",
   "metadata": {},
   "outputs": [
    {
     "data": {
      "text/plain": [
       "(2, 5)"
      ]
     },
     "execution_count": 34,
     "metadata": {},
     "output_type": "execute_result"
    }
   ],
   "source": [
    "a_2d.shape"
   ]
  },
  {
   "cell_type": "code",
   "execution_count": 35,
   "id": "34294eed",
   "metadata": {},
   "outputs": [
    {
     "data": {
      "text/plain": [
       "array([[1, 2, 3, 4, 5],\n",
       "       [1, 2, 3, 4, 5]])"
      ]
     },
     "execution_count": 35,
     "metadata": {},
     "output_type": "execute_result"
    }
   ],
   "source": [
    "a_2d + 1"
   ]
  },
  {
   "cell_type": "code",
   "execution_count": 36,
   "id": "3f6de57d",
   "metadata": {},
   "outputs": [
    {
     "data": {
      "text/plain": [
       "5"
      ]
     },
     "execution_count": 36,
     "metadata": {},
     "output_type": "execute_result"
    }
   ],
   "source": [
    "a.size"
   ]
  },
  {
   "cell_type": "code",
   "execution_count": 37,
   "id": "91609d60",
   "metadata": {},
   "outputs": [
    {
     "data": {
      "text/plain": [
       "10"
      ]
     },
     "execution_count": 37,
     "metadata": {},
     "output_type": "execute_result"
    }
   ],
   "source": [
    "a_2d.size"
   ]
  },
  {
   "cell_type": "code",
   "execution_count": 38,
   "id": "f1ccb496",
   "metadata": {},
   "outputs": [
    {
     "data": {
      "text/plain": [
       "array([0, 1, 2, 3, 4])"
      ]
     },
     "execution_count": 38,
     "metadata": {},
     "output_type": "execute_result"
    }
   ],
   "source": [
    "a.T"
   ]
  },
  {
   "cell_type": "code",
   "execution_count": 40,
   "id": "89147586",
   "metadata": {},
   "outputs": [
    {
     "data": {
      "text/plain": [
       "array([[0, 0],\n",
       "       [1, 1],\n",
       "       [2, 2],\n",
       "       [3, 3],\n",
       "       [4, 4]])"
      ]
     },
     "execution_count": 40,
     "metadata": {},
     "output_type": "execute_result"
    }
   ],
   "source": [
    "a_2d.T   #Transpose"
   ]
  },
  {
   "cell_type": "code",
   "execution_count": 42,
   "id": "17e11bb5",
   "metadata": {},
   "outputs": [
    {
     "data": {
      "text/plain": [
       "(5, 2)"
      ]
     },
     "execution_count": 42,
     "metadata": {},
     "output_type": "execute_result"
    }
   ],
   "source": [
    "a_2d.T.shape"
   ]
  },
  {
   "cell_type": "code",
   "execution_count": 43,
   "id": "ab0418df",
   "metadata": {},
   "outputs": [
    {
     "data": {
      "text/plain": [
       "dtype('int32')"
      ]
     },
     "execution_count": 43,
     "metadata": {},
     "output_type": "execute_result"
    }
   ],
   "source": [
    "a.dtype"
   ]
  },
  {
   "cell_type": "code",
   "execution_count": 45,
   "id": "8a3f2f47",
   "metadata": {},
   "outputs": [
    {
     "data": {
      "text/plain": [
       "dtype('int32')"
      ]
     },
     "execution_count": 45,
     "metadata": {},
     "output_type": "execute_result"
    }
   ],
   "source": [
    "a_2d.dtype"
   ]
  },
  {
   "cell_type": "code",
   "execution_count": 47,
   "id": "829cfe17",
   "metadata": {},
   "outputs": [
    {
     "data": {
      "text/plain": [
       "array([ 10,  20,  30,  40,  50,  60,  70,  80,  90, 100])"
      ]
     },
     "execution_count": 47,
     "metadata": {},
     "output_type": "execute_result"
    }
   ],
   "source": [
    "#Assignment1: -\n",
    "\n",
    "my_list = [x * 10 for x in range(1, 11)]\n",
    "npy_list = np.array(my_list)\n",
    "npy_list"
   ]
  },
  {
   "cell_type": "code",
   "execution_count": 48,
   "id": "2ca5e594",
   "metadata": {},
   "outputs": [
    {
     "data": {
      "text/plain": [
       "1"
      ]
     },
     "execution_count": 48,
     "metadata": {},
     "output_type": "execute_result"
    }
   ],
   "source": [
    "npy_list.ndim"
   ]
  },
  {
   "cell_type": "code",
   "execution_count": 49,
   "id": "4a8a2488",
   "metadata": {},
   "outputs": [
    {
     "data": {
      "text/plain": [
       "(10,)"
      ]
     },
     "execution_count": 49,
     "metadata": {},
     "output_type": "execute_result"
    }
   ],
   "source": [
    "npy_list.shape"
   ]
  },
  {
   "cell_type": "code",
   "execution_count": 50,
   "id": "97838fd7",
   "metadata": {},
   "outputs": [
    {
     "data": {
      "text/plain": [
       "10"
      ]
     },
     "execution_count": 50,
     "metadata": {},
     "output_type": "execute_result"
    }
   ],
   "source": [
    "npy_list.size"
   ]
  },
  {
   "cell_type": "code",
   "execution_count": 51,
   "id": "f284fdcc",
   "metadata": {},
   "outputs": [
    {
     "data": {
      "text/plain": [
       "dtype('int32')"
      ]
     },
     "execution_count": 51,
     "metadata": {},
     "output_type": "execute_result"
    }
   ],
   "source": [
    "npy_list.dtype"
   ]
  },
  {
   "cell_type": "code",
   "execution_count": 53,
   "id": "7175aefe",
   "metadata": {},
   "outputs": [
    {
     "data": {
      "text/plain": [
       "array([[ 10,  20,  30,  40,  50],\n",
       "       [ 60,  70,  80,  90, 100]])"
      ]
     },
     "execution_count": 53,
     "metadata": {},
     "output_type": "execute_result"
    }
   ],
   "source": [
    "#reshape\n",
    "npy_list.reshape(2, 5)"
   ]
  },
  {
   "cell_type": "code",
   "execution_count": 55,
   "id": "35e3d121",
   "metadata": {},
   "outputs": [
    {
     "data": {
      "text/plain": [
       "10"
      ]
     },
     "execution_count": 55,
     "metadata": {},
     "output_type": "execute_result"
    }
   ],
   "source": [
    "npy_list.size"
   ]
  },
  {
   "cell_type": "markdown",
   "id": "abf0f4db",
   "metadata": {},
   "source": [
    "# Array Creation"
   ]
  },
  {
   "cell_type": "code",
   "execution_count": 60,
   "id": "691847e5",
   "metadata": {},
   "outputs": [],
   "source": [
    "#ones\n",
    "a = np.ones(5)"
   ]
  },
  {
   "cell_type": "code",
   "execution_count": 61,
   "id": "3be9b53c",
   "metadata": {},
   "outputs": [
    {
     "data": {
      "text/plain": [
       "array([1., 1., 1., 1., 1.])"
      ]
     },
     "execution_count": 61,
     "metadata": {},
     "output_type": "execute_result"
    }
   ],
   "source": [
    "a"
   ]
  },
  {
   "cell_type": "code",
   "execution_count": 63,
   "id": "6385912d",
   "metadata": {},
   "outputs": [
    {
     "data": {
      "text/plain": [
       "array([[1, 1, 1, 1, 1],\n",
       "       [1, 1, 1, 1, 1],\n",
       "       [1, 1, 1, 1, 1],\n",
       "       [1, 1, 1, 1, 1],\n",
       "       [1, 1, 1, 1, 1]])"
      ]
     },
     "execution_count": 63,
     "metadata": {},
     "output_type": "execute_result"
    }
   ],
   "source": [
    "np.ones(25, dtype=int).reshape(5,5)"
   ]
  },
  {
   "cell_type": "code",
   "execution_count": 64,
   "id": "8752e2bf",
   "metadata": {},
   "outputs": [
    {
     "data": {
      "text/plain": [
       "array([0., 0., 0., 0.])"
      ]
     },
     "execution_count": 64,
     "metadata": {},
     "output_type": "execute_result"
    }
   ],
   "source": [
    "#Zeros\n",
    "\n",
    "np.zeros(4)"
   ]
  },
  {
   "cell_type": "code",
   "execution_count": 65,
   "id": "4634f3dd",
   "metadata": {},
   "outputs": [
    {
     "data": {
      "text/plain": [
       "array([[0, 0, 0, 0],\n",
       "       [0, 0, 0, 0],\n",
       "       [0, 0, 0, 0]])"
      ]
     },
     "execution_count": 65,
     "metadata": {},
     "output_type": "execute_result"
    }
   ],
   "source": [
    "np.zeros(12, int).reshape(3,4)"
   ]
  },
  {
   "cell_type": "code",
   "execution_count": 70,
   "id": "caccf6a7",
   "metadata": {
    "scrolled": true
   },
   "outputs": [
    {
     "data": {
      "text/plain": [
       "array([[1, 0, 0],\n",
       "       [0, 1, 0],\n",
       "       [0, 0, 1]])"
      ]
     },
     "execution_count": 70,
     "metadata": {},
     "output_type": "execute_result"
    }
   ],
   "source": [
    "#Identity\n",
    "\n",
    "np.identity(3, int)"
   ]
  },
  {
   "cell_type": "code",
   "execution_count": 81,
   "id": "b48fcc02",
   "metadata": {},
   "outputs": [
    {
     "data": {
      "text/plain": [
       "array([[1., 0., 0., 0., 0., 0., 0., 0., 0., 0., 0., 0., 0., 1., 0., 0.,\n",
       "        0., 0.],\n",
       "       [0., 0., 0., 0., 0., 0., 0., 0., 1., 0., 0., 0., 0., 0., 0., 0.,\n",
       "        0., 0.],\n",
       "       [0., 0., 0., 1., 0., 0., 0., 0., 0., 0., 0., 0., 0., 0., 0., 0.,\n",
       "        1., 0.],\n",
       "       [0., 0., 0., 0., 0., 0., 0., 0., 0., 0., 0., 1., 0., 0., 0., 0.,\n",
       "        0., 0.],\n",
       "       [0., 0., 0., 0., 0., 0., 1., 0., 0., 0., 0., 0., 0., 0., 0., 0.,\n",
       "        0., 0.],\n",
       "       [0., 1., 0., 0., 0., 0., 0., 0., 0., 0., 0., 0., 0., 0., 1., 0.,\n",
       "        0., 0.],\n",
       "       [0., 0., 0., 0., 0., 0., 0., 0., 0., 1., 0., 0., 0., 0., 0., 0.,\n",
       "        0., 0.],\n",
       "       [0., 0., 0., 0., 1., 0., 0., 0., 0., 0., 0., 0., 0., 0., 0., 0.,\n",
       "        0., 1.]])"
      ]
     },
     "execution_count": 81,
     "metadata": {},
     "output_type": "execute_result"
    }
   ],
   "source": [
    "np.identity(12).reshape(8, 18)"
   ]
  },
  {
   "cell_type": "code",
   "execution_count": 82,
   "id": "5727933c",
   "metadata": {},
   "outputs": [
    {
     "data": {
      "text/plain": [
       "array([0, 1, 2, 3, 4])"
      ]
     },
     "execution_count": 82,
     "metadata": {},
     "output_type": "execute_result"
    }
   ],
   "source": [
    "np.arange(5)"
   ]
  },
  {
   "cell_type": "code",
   "execution_count": 85,
   "id": "5e9f64fa",
   "metadata": {},
   "outputs": [
    {
     "data": {
      "text/plain": [
       "array([6, 7, 8, 9])"
      ]
     },
     "execution_count": 85,
     "metadata": {},
     "output_type": "execute_result"
    }
   ],
   "source": [
    "np.arange(6, 10)"
   ]
  },
  {
   "cell_type": "code",
   "execution_count": 86,
   "id": "9136ccd6",
   "metadata": {},
   "outputs": [
    {
     "data": {
      "text/plain": [
       "array([[6, 7],\n",
       "       [8, 9]])"
      ]
     },
     "execution_count": 86,
     "metadata": {},
     "output_type": "execute_result"
    }
   ],
   "source": [
    "np.arange(6, 10).reshape(2,2)"
   ]
  },
  {
   "cell_type": "code",
   "execution_count": 93,
   "id": "cf03d826",
   "metadata": {},
   "outputs": [
    {
     "data": {
      "text/plain": [
       "array([ 0,  2,  5,  7, 10])"
      ]
     },
     "execution_count": 93,
     "metadata": {},
     "output_type": "execute_result"
    }
   ],
   "source": [
    "np.linspace(0, 10, 5, dtype=int)"
   ]
  },
  {
   "cell_type": "code",
   "execution_count": 95,
   "id": "0ed3774b",
   "metadata": {},
   "outputs": [
    {
     "data": {
      "text/plain": [
       "array([[  6,  14,  23],\n",
       "       [ 31,  40,  48],\n",
       "       [ 57,  65,  74],\n",
       "       [ 82,  91, 100]])"
      ]
     },
     "execution_count": 95,
     "metadata": {},
     "output_type": "execute_result"
    }
   ],
   "source": [
    "np.linspace(6, 100, 12, dtype=int).reshape(4,3)"
   ]
  },
  {
   "cell_type": "markdown",
   "id": "c9d99df0",
   "metadata": {},
   "source": [
    "# Random Number Arrays"
   ]
  },
  {
   "cell_type": "code",
   "execution_count": 101,
   "id": "f68f9600",
   "metadata": {},
   "outputs": [
    {
     "data": {
      "text/plain": [
       "array([0.22733602, 0.31675834, 0.79736546, 0.67625467, 0.39110955])"
      ]
     },
     "execution_count": 101,
     "metadata": {},
     "output_type": "execute_result"
    }
   ],
   "source": [
    "#default rng\n",
    "from numpy.random import default_rng\n",
    "\n",
    "#creating a random number generator with a seeds of 12345\n",
    "\n",
    "rng = default_rng(12345)\n",
    "\n",
    "ra = rng.random(5)\n",
    "\n",
    "ra"
   ]
  },
  {
   "cell_type": "code",
   "execution_count": 106,
   "id": "af6e87c1",
   "metadata": {},
   "outputs": [
    {
     "data": {
      "text/plain": [
       "array([3.57617496, 6.26372846, 4.12933826, 4.74082677, 4.92465669])"
      ]
     },
     "execution_count": 106,
     "metadata": {},
     "output_type": "execute_result"
    }
   ],
   "source": [
    "#normal random generator\n",
    "\n",
    "from numpy.random import default_rng\n",
    "\n",
    "\n",
    "rng = default_rng(12345)\n",
    "mean, stdev = 5, 1\n",
    "\n",
    "rn = rng.normal(mean, stdev, size = 5)\n",
    "rn"
   ]
  },
  {
   "cell_type": "code",
   "execution_count": 108,
   "id": "c4063745",
   "metadata": {},
   "outputs": [
    {
     "data": {
      "text/plain": [
       "array([0.22733602, 0.31675834, 0.79736546, 0.67625467, 0.39110955])"
      ]
     },
     "execution_count": 108,
     "metadata": {},
     "output_type": "execute_result"
    }
   ],
   "source": [
    "import numpy as np\n",
    "rng = np.random.default_rng(12345)\n",
    "rng.random(5)"
   ]
  },
  {
   "cell_type": "code",
   "execution_count": 113,
   "id": "256bf969",
   "metadata": {
    "scrolled": true
   },
   "outputs": [
    {
     "data": {
      "text/plain": [
       "array([5.02959836])"
      ]
     },
     "execution_count": 113,
     "metadata": {},
     "output_type": "execute_result"
    }
   ],
   "source": [
    "import numpy as np\n",
    "rn = np.random.default_rng(61625)\n",
    "mean, stdev = 5, 1\n",
    "rn.normal(5, mean, stdev)"
   ]
  },
  {
   "cell_type": "code",
   "execution_count": 115,
   "id": "2475e89a",
   "metadata": {},
   "outputs": [
    {
     "data": {
      "text/plain": [
       "array([1, 6, 5, 2, 5, 0, 0, 6, 1, 7, 8, 3, 8, 0, 8, 6, 1, 4, 9, 6, 5, 2,\n",
       "       1, 8, 2, 3, 4, 8, 9, 5, 0, 1, 8, 9, 1, 9, 1, 0, 4, 7, 4, 0, 8, 8,\n",
       "       9, 5, 1, 6, 0, 8, 5, 2, 7, 1, 8, 8, 9, 9, 0, 2, 2, 2, 2, 4, 9, 9,\n",
       "       8, 0, 0, 0, 3, 2, 0, 6, 2, 9, 0, 4, 3, 3, 2, 4, 0, 9, 9, 1, 2, 1,\n",
       "       6, 0, 2, 5, 1, 9, 8, 2, 8, 1, 6, 9], dtype=int64)"
      ]
     },
     "execution_count": 115,
     "metadata": {},
     "output_type": "execute_result"
    }
   ],
   "source": [
    "rng.integers(0, 10, 100)"
   ]
  },
  {
   "cell_type": "code",
   "execution_count": 116,
   "id": "f2da584b",
   "metadata": {},
   "outputs": [
    {
     "data": {
      "text/plain": [
       "array([5, 6, 6, 5, 6, 5, 5, 6, 5, 7, 7, 6, 7, 5, 7, 7, 5, 6, 7, 6, 6, 5,\n",
       "       5, 7, 5, 6, 6, 7, 7, 6, 5, 5, 7, 7, 5, 7, 5, 5, 6, 7], dtype=int64)"
      ]
     },
     "execution_count": 116,
     "metadata": {},
     "output_type": "execute_result"
    }
   ],
   "source": [
    "rn.integers(5, 8, 40)"
   ]
  },
  {
   "cell_type": "code",
   "execution_count": 117,
   "id": "2db716fc",
   "metadata": {},
   "outputs": [
    {
     "data": {
      "text/plain": [
       "array([38.03742588, 55.87749824, 51.77404083, 43.99778752, 52.85943123,\n",
       "       56.68151281, 50.56723721, 53.47123195, 42.00575304, 37.50963484])"
      ]
     },
     "execution_count": 117,
     "metadata": {},
     "output_type": "execute_result"
    }
   ],
   "source": [
    "rng.normal(50, 5, 10)"
   ]
  },
  {
   "cell_type": "code",
   "execution_count": 133,
   "id": "0071c1d5",
   "metadata": {
    "scrolled": true
   },
   "outputs": [],
   "source": [
    "#Assignment 1 - Array Creation\n",
    "\n",
    "import numpy as np\n",
    "\n",
    "#create an array\n",
    "\n",
    "arr = np.linspace(10, 100, 10).reshape(5,2)"
   ]
  },
  {
   "cell_type": "code",
   "execution_count": 134,
   "id": "0a25ff3a",
   "metadata": {},
   "outputs": [
    {
     "data": {
      "text/plain": [
       "array([[ 10.,  20.],\n",
       "       [ 30.,  40.],\n",
       "       [ 50.,  60.],\n",
       "       [ 70.,  80.],\n",
       "       [ 90., 100.]])"
      ]
     },
     "execution_count": 134,
     "metadata": {},
     "output_type": "execute_result"
    }
   ],
   "source": [
    "arr"
   ]
  },
  {
   "cell_type": "code",
   "execution_count": 135,
   "id": "7113ab52",
   "metadata": {},
   "outputs": [],
   "source": [
    "from numpy.random import default_rng\n",
    "rng = default_rng(2022)\n",
    "rnd_arr = rng.random(9).reshape(3, 3)"
   ]
  },
  {
   "cell_type": "code",
   "execution_count": 136,
   "id": "d829c1ec",
   "metadata": {},
   "outputs": [
    {
     "data": {
      "text/plain": [
       "array([[0.24742606, 0.09299006, 0.61176337],\n",
       "       [0.06066207, 0.66103343, 0.75515778],\n",
       "       [0.1108689 , 0.04305584, 0.41441747]])"
      ]
     },
     "execution_count": 136,
     "metadata": {},
     "output_type": "execute_result"
    }
   ],
   "source": [
    "rnd_arr"
   ]
  },
  {
   "cell_type": "code",
   "execution_count": 139,
   "id": "b81e97c9",
   "metadata": {},
   "outputs": [
    {
     "data": {
      "text/plain": [
       "array([[ 10,  20],\n",
       "       [ 30,  40],\n",
       "       [ 50,  60],\n",
       "       [ 70,  80],\n",
       "       [ 90, 100]])"
      ]
     },
     "execution_count": 139,
     "metadata": {},
     "output_type": "execute_result"
    }
   ],
   "source": [
    "#Assignment 2 - Using arange function for avove Assignent 1\n",
    "\n",
    "ar = np.arange(10, 101, 10).reshape(5,2)\n",
    "ar"
   ]
  },
  {
   "cell_type": "code",
   "execution_count": 146,
   "id": "b9fb109e",
   "metadata": {},
   "outputs": [
    {
     "data": {
      "text/plain": [
       "array([[0.24742606, 0.09299006, 0.61176337],\n",
       "       [0.06066207, 0.66103343, 0.75515778],\n",
       "       [0.1108689 , 0.04305584, 0.41441747]])"
      ]
     },
     "execution_count": 146,
     "metadata": {},
     "output_type": "execute_result"
    }
   ],
   "source": [
    "#Assignmet 3 - Create 3 X 3 random number between 0 and 1? Use a random state of 2022\n",
    "\n",
    "rng = np.random.default_rng(2022)\n",
    "random_array = rng.random(9).reshape(3,3)\n",
    "random_array"
   ]
  },
  {
   "cell_type": "markdown",
   "id": "fc322585",
   "metadata": {},
   "source": [
    "# Array Indexing & Slicing - 1 D"
   ]
  },
  {
   "cell_type": "markdown",
   "id": "49a4c097",
   "metadata": {},
   "source": [
    "- array[index] - indexing to access a single element (o-index)\n",
    "\n",
    "- array[start, stop, step size] - slicing to access a series of elements (stop is not inclusive)"
   ]
  },
  {
   "cell_type": "code",
   "execution_count": 149,
   "id": "700606dd",
   "metadata": {},
   "outputs": [],
   "source": [
    "product_array = ['fruits', 'vegetables', 'cearls', 'Beavrage', 'Non-Vegetable', 'Milk-Dairy']"
   ]
  },
  {
   "cell_type": "code",
   "execution_count": 150,
   "id": "7847f320",
   "metadata": {},
   "outputs": [
    {
     "data": {
      "text/plain": [
       "['fruits', 'vegetables', 'cearls', 'Beavrage', 'Non-Vegetable', 'Milk-Dairy']"
      ]
     },
     "execution_count": 150,
     "metadata": {},
     "output_type": "execute_result"
    }
   ],
   "source": [
    "product_array"
   ]
  },
  {
   "cell_type": "code",
   "execution_count": 152,
   "id": "0274b645",
   "metadata": {},
   "outputs": [
    {
     "data": {
      "text/plain": [
       "'vegetables'"
      ]
     },
     "execution_count": 152,
     "metadata": {},
     "output_type": "execute_result"
    }
   ],
   "source": [
    "product_array[1]"
   ]
  },
  {
   "cell_type": "code",
   "execution_count": 153,
   "id": "ec31245b",
   "metadata": {},
   "outputs": [
    {
     "data": {
      "text/plain": [
       "'Milk-Dairy'"
      ]
     },
     "execution_count": 153,
     "metadata": {},
     "output_type": "execute_result"
    }
   ],
   "source": [
    "product_array[-1]"
   ]
  },
  {
   "cell_type": "code",
   "execution_count": 154,
   "id": "963f2155",
   "metadata": {},
   "outputs": [
    {
     "data": {
      "text/plain": [
       "['fruits', 'vegetables', 'cearls', 'Beavrage', 'Non-Vegetable']"
      ]
     },
     "execution_count": 154,
     "metadata": {},
     "output_type": "execute_result"
    }
   ],
   "source": [
    "product_array[:5]  #Access first five elements"
   ]
  },
  {
   "cell_type": "code",
   "execution_count": 156,
   "id": "4f59bad8",
   "metadata": {},
   "outputs": [
    {
     "data": {
      "text/plain": [
       "['cearls', 'Beavrage', 'Non-Vegetable']"
      ]
     },
     "execution_count": 156,
     "metadata": {},
     "output_type": "execute_result"
    }
   ],
   "source": [
    " product_array[2:5] #Acees indexing from 2nd elements to 4th - indexing start from 0-th"
   ]
  },
  {
   "cell_type": "markdown",
   "id": "e5e46187",
   "metadata": {},
   "source": [
    "#  Indexing & Slicing - 2 D Array"
   ]
  },
  {
   "cell_type": "markdown",
   "id": "78de421b",
   "metadata": {},
   "source": [
    "- array[row index, column index]\n",
    "\n",
    "- array[start: stop: setp size, start:stop:step size]"
   ]
  },
  {
   "cell_type": "code",
   "execution_count": 157,
   "id": "6f35ac44",
   "metadata": {},
   "outputs": [],
   "source": [
    "product_array2D = ['Spices', 'Dry Fruits', 'Juices', 'fruits', 'vegetables', 'cearls', 'Beavrage', 'Non-Vegetable', 'Milk-Dairy']"
   ]
  },
  {
   "cell_type": "code",
   "execution_count": 162,
   "id": "1181c973",
   "metadata": {},
   "outputs": [
    {
     "data": {
      "text/plain": [
       "['Spices',\n",
       " 'Dry Fruits',\n",
       " 'Juices',\n",
       " 'fruits',\n",
       " 'vegetables',\n",
       " 'cearls',\n",
       " 'Beavrage',\n",
       " 'Non-Vegetable',\n",
       " 'Milk-Dairy']"
      ]
     },
     "execution_count": 162,
     "metadata": {},
     "output_type": "execute_result"
    }
   ],
   "source": [
    "product_array2D"
   ]
  },
  {
   "cell_type": "code",
   "execution_count": 164,
   "id": "01f724e1",
   "metadata": {},
   "outputs": [
    {
     "data": {
      "text/plain": [
       "list"
      ]
     },
     "execution_count": 164,
     "metadata": {},
     "output_type": "execute_result"
    }
   ],
   "source": [
    "type(product_array2D)"
   ]
  },
  {
   "cell_type": "code",
   "execution_count": 174,
   "id": "676e84bc",
   "metadata": {},
   "outputs": [],
   "source": [
    "a = np.array(product_array2D)"
   ]
  },
  {
   "cell_type": "code",
   "execution_count": 175,
   "id": "7922c343",
   "metadata": {},
   "outputs": [
    {
     "data": {
      "text/plain": [
       "array(['Spices', 'Dry Fruits', 'Juices', 'fruits', 'vegetables', 'cearls',\n",
       "       'Beavrage', 'Non-Vegetable', 'Milk-Dairy'], dtype='<U13')"
      ]
     },
     "execution_count": 175,
     "metadata": {},
     "output_type": "execute_result"
    }
   ],
   "source": [
    "a"
   ]
  },
  {
   "cell_type": "code",
   "execution_count": 180,
   "id": "c5467434",
   "metadata": {},
   "outputs": [],
   "source": [
    "x = a.reshape(3,3)"
   ]
  },
  {
   "cell_type": "code",
   "execution_count": 181,
   "id": "594e6530",
   "metadata": {},
   "outputs": [
    {
     "data": {
      "text/plain": [
       "array([['Spices', 'Dry Fruits', 'Juices'],\n",
       "       ['fruits', 'vegetables', 'cearls'],\n",
       "       ['Beavrage', 'Non-Vegetable', 'Milk-Dairy']], dtype='<U13')"
      ]
     },
     "execution_count": 181,
     "metadata": {},
     "output_type": "execute_result"
    }
   ],
   "source": [
    "x"
   ]
  },
  {
   "cell_type": "code",
   "execution_count": 185,
   "id": "5a469d94",
   "metadata": {},
   "outputs": [
    {
     "data": {
      "text/plain": [
       "'cearls'"
      ]
     },
     "execution_count": 185,
     "metadata": {},
     "output_type": "execute_result"
    }
   ],
   "source": [
    "x[1, 2]"
   ]
  },
  {
   "cell_type": "code",
   "execution_count": 188,
   "id": "69eecf67",
   "metadata": {},
   "outputs": [
    {
     "data": {
      "text/plain": [
       "array([['Dry Fruits', 'Juices'],\n",
       "       ['vegetables', 'cearls'],\n",
       "       ['Non-Vegetable', 'Milk-Dairy']], dtype='<U13')"
      ]
     },
     "execution_count": 188,
     "metadata": {},
     "output_type": "execute_result"
    }
   ],
   "source": [
    "x[:, 1:]"
   ]
  },
  {
   "cell_type": "code",
   "execution_count": 189,
   "id": "2eeb80a3",
   "metadata": {},
   "outputs": [
    {
     "data": {
      "text/plain": [
       "array([['fruits', 'vegetables', 'cearls'],\n",
       "       ['Beavrage', 'Non-Vegetable', 'Milk-Dairy']], dtype='<U13')"
      ]
     },
     "execution_count": 189,
     "metadata": {},
     "output_type": "execute_result"
    }
   ],
   "source": [
    "x[1:, :]"
   ]
  },
  {
   "cell_type": "code",
   "execution_count": 193,
   "id": "f535a4f6",
   "metadata": {},
   "outputs": [],
   "source": [
    "int_arr = np.arange(12)"
   ]
  },
  {
   "cell_type": "code",
   "execution_count": 194,
   "id": "c3086902",
   "metadata": {},
   "outputs": [
    {
     "data": {
      "text/plain": [
       "array([ 0,  1,  2,  3,  4,  5,  6,  7,  8,  9, 10, 11])"
      ]
     },
     "execution_count": 194,
     "metadata": {},
     "output_type": "execute_result"
    }
   ],
   "source": [
    "int_arr"
   ]
  },
  {
   "cell_type": "code",
   "execution_count": 195,
   "id": "e218a123",
   "metadata": {},
   "outputs": [
    {
     "data": {
      "text/plain": [
       "2"
      ]
     },
     "execution_count": 195,
     "metadata": {},
     "output_type": "execute_result"
    }
   ],
   "source": [
    "int_arr[2]"
   ]
  },
  {
   "cell_type": "code",
   "execution_count": 196,
   "id": "83960549",
   "metadata": {},
   "outputs": [
    {
     "data": {
      "text/plain": [
       "10"
      ]
     },
     "execution_count": 196,
     "metadata": {},
     "output_type": "execute_result"
    }
   ],
   "source": [
    "int_arr[-2]"
   ]
  },
  {
   "cell_type": "code",
   "execution_count": 197,
   "id": "d71b9688",
   "metadata": {},
   "outputs": [
    {
     "data": {
      "text/plain": [
       "array([0, 1, 2, 3, 4])"
      ]
     },
     "execution_count": 197,
     "metadata": {},
     "output_type": "execute_result"
    }
   ],
   "source": [
    "int_arr[:5]"
   ]
  },
  {
   "cell_type": "code",
   "execution_count": 198,
   "id": "73f7f08f",
   "metadata": {},
   "outputs": [
    {
     "data": {
      "text/plain": [
       "array([ 0,  1,  2,  3,  4,  5,  6,  7,  8,  9, 10, 11])"
      ]
     },
     "execution_count": 198,
     "metadata": {},
     "output_type": "execute_result"
    }
   ],
   "source": [
    "int_arr[:]"
   ]
  },
  {
   "cell_type": "code",
   "execution_count": 199,
   "id": "9d6e3f78",
   "metadata": {},
   "outputs": [],
   "source": [
    "new_arr = int_arr.reshape(3, 4)"
   ]
  },
  {
   "cell_type": "code",
   "execution_count": 200,
   "id": "87cabfa4",
   "metadata": {},
   "outputs": [
    {
     "data": {
      "text/plain": [
       "array([[ 0,  1,  2,  3],\n",
       "       [ 4,  5,  6,  7],\n",
       "       [ 8,  9, 10, 11]])"
      ]
     },
     "execution_count": 200,
     "metadata": {},
     "output_type": "execute_result"
    }
   ],
   "source": [
    "new_arr"
   ]
  },
  {
   "cell_type": "code",
   "execution_count": 201,
   "id": "c8e013c5",
   "metadata": {},
   "outputs": [
    {
     "data": {
      "text/plain": [
       "array([[ 0,  1,  2,  3],\n",
       "       [ 4,  5,  6,  7],\n",
       "       [ 8,  9, 10, 11]])"
      ]
     },
     "execution_count": 201,
     "metadata": {},
     "output_type": "execute_result"
    }
   ],
   "source": [
    "new_arr[:, :]"
   ]
  },
  {
   "cell_type": "code",
   "execution_count": 206,
   "id": "1d18a174",
   "metadata": {},
   "outputs": [
    {
     "data": {
      "text/plain": [
       "array([[0.15999115, 0.58594351, 0.82383678],\n",
       "       [0.29726024, 0.68489952, 0.46388416],\n",
       "       [0.89135743, 0.56487326, 0.99319199]])"
      ]
     },
     "execution_count": 206,
     "metadata": {},
     "output_type": "execute_result"
    }
   ],
   "source": [
    "#Assignment - Accessing Array Data\n",
    "\n",
    "rng = np.random.default_rng(102)\n",
    "ra = rng.random(9).reshape(3,3)\n",
    "ra"
   ]
  },
  {
   "cell_type": "code",
   "execution_count": 207,
   "id": "daf6797f",
   "metadata": {},
   "outputs": [
    {
     "data": {
      "text/plain": [
       "array([[0.89135743, 0.56487326, 0.99319199]])"
      ]
     },
     "execution_count": 207,
     "metadata": {},
     "output_type": "execute_result"
    }
   ],
   "source": [
    "#Access first 2 rows\n",
    "ra[2:]"
   ]
  },
  {
   "cell_type": "markdown",
   "id": "70acb8b8",
   "metadata": {},
   "source": [
    "# Array Operations"
   ]
  },
  {
   "cell_type": "code",
   "execution_count": 1,
   "id": "6e0fc613",
   "metadata": {},
   "outputs": [],
   "source": [
    "import numpy as np"
   ]
  },
  {
   "cell_type": "code",
   "execution_count": 7,
   "id": "e8fc6465",
   "metadata": {},
   "outputs": [
    {
     "data": {
      "text/plain": [
       "array([[   0,    5,  155,    0,  518],\n",
       "       [   0, 1827,  617,  317,  325]])"
      ]
     },
     "execution_count": 7,
     "metadata": {},
     "output_type": "execute_result"
    }
   ],
   "source": [
    "#Arithmetic Operations\n",
    "\n",
    "sales = [[0, 5, 155, 0, 518],\n",
    "        [0, 1827, 617, 317, 325]]\n",
    "sales_arr = np.array(sales)\n",
    "sales_arr"
   ]
  },
  {
   "cell_type": "code",
   "execution_count": 8,
   "id": "89a70682",
   "metadata": {},
   "outputs": [
    {
     "data": {
      "text/plain": [
       "array([[   2,    7,  157,    2,  520],\n",
       "       [   2, 1829,  619,  319,  327]])"
      ]
     },
     "execution_count": 8,
     "metadata": {},
     "output_type": "execute_result"
    }
   ],
   "source": [
    "sales_arr + 2 #added 2 to every elements in the array"
   ]
  },
  {
   "cell_type": "code",
   "execution_count": 9,
   "id": "afbb0245",
   "metadata": {},
   "outputs": [],
   "source": [
    "quantity = sales_arr[0, :]  #Assign all the elements in the first row to quantity"
   ]
  },
  {
   "cell_type": "code",
   "execution_count": 10,
   "id": "89e2b65b",
   "metadata": {},
   "outputs": [
    {
     "data": {
      "text/plain": [
       "array([     0,   9135,  95635,      0, 168350])"
      ]
     },
     "execution_count": 10,
     "metadata": {},
     "output_type": "execute_result"
    }
   ],
   "source": [
    "price = sales_arr[1, :]   #Assign all the elements in the second row to price\n",
    "\n",
    "quantity * price"
   ]
  },
  {
   "cell_type": "code",
   "execution_count": 16,
   "id": "b5d9aab8",
   "metadata": {},
   "outputs": [],
   "source": [
    "import numpy as np\n",
    "\n",
    "rng =np.random.default_rng(616)\n",
    "inventory = rng.integers(0, 100, 10)"
   ]
  },
  {
   "cell_type": "code",
   "execution_count": 18,
   "id": "c610f8d1",
   "metadata": {},
   "outputs": [
    {
     "data": {
      "text/plain": [
       "array([39, 39, 93, 86, 48, 46, 48, 30, 11, 57], dtype=int64)"
      ]
     },
     "execution_count": 18,
     "metadata": {},
     "output_type": "execute_result"
    }
   ],
   "source": [
    "inventory"
   ]
  },
  {
   "cell_type": "code",
   "execution_count": 19,
   "id": "c9b583f4",
   "metadata": {},
   "outputs": [
    {
     "data": {
      "text/plain": [
       "array([25, 25, 79, 72, 34, 32, 34, 16, -3, 43], dtype=int64)"
      ]
     },
     "execution_count": 19,
     "metadata": {},
     "output_type": "execute_result"
    }
   ],
   "source": [
    "inventory - 14  #arithmetic operation Performed"
   ]
  },
  {
   "cell_type": "code",
   "execution_count": 21,
   "id": "a984ebbc",
   "metadata": {},
   "outputs": [
    {
     "data": {
      "text/plain": [
       "array([19.5, 19.5, 46.5, 43. , 24. , 23. , 24. , 15. ,  5.5, 28.5])"
      ]
     },
     "execution_count": 21,
     "metadata": {},
     "output_type": "execute_result"
    }
   ],
   "source": [
    " inventory / 2"
   ]
  },
  {
   "cell_type": "code",
   "execution_count": 24,
   "id": "df07a51b",
   "metadata": {},
   "outputs": [
    {
     "data": {
      "text/plain": [
       "array([7.8, 9.6, 1.9, 1.7, 4.7, 5.9, 4.3, 8.2, 3.8, 0.2])"
      ]
     },
     "execution_count": 24,
     "metadata": {},
     "output_type": "execute_result"
    }
   ],
   "source": [
    "price = (rng.random(10)*10).round(1)\n",
    "price"
   ]
  },
  {
   "cell_type": "code",
   "execution_count": 26,
   "id": "ffb3df81",
   "metadata": {},
   "outputs": [
    {
     "data": {
      "text/plain": [
       "array([304.2, 374.4, 176.7, 146.2, 225.6, 271.4, 206.4, 246. ,  41.8,\n",
       "        11.4])"
      ]
     },
     "execution_count": 26,
     "metadata": {},
     "output_type": "execute_result"
    }
   ],
   "source": [
    "price * inventory"
   ]
  },
  {
   "cell_type": "code",
   "execution_count": 32,
   "id": "9a1d62bf",
   "metadata": {},
   "outputs": [
    {
     "data": {
      "text/plain": [
       "2004.1"
      ]
     },
     "execution_count": 32,
     "metadata": {},
     "output_type": "execute_result"
    }
   ],
   "source": [
    "(price * inventory).sum().round(3)"
   ]
  },
  {
   "cell_type": "code",
   "execution_count": 33,
   "id": "dd7b757a",
   "metadata": {},
   "outputs": [],
   "source": [
    "invent_list = list(inventory)"
   ]
  },
  {
   "cell_type": "code",
   "execution_count": 34,
   "id": "d3c7ea1f",
   "metadata": {},
   "outputs": [
    {
     "data": {
      "text/plain": [
       "[39, 39, 93, 86, 48, 46, 48, 30, 11, 57]"
      ]
     },
     "execution_count": 34,
     "metadata": {},
     "output_type": "execute_result"
    }
   ],
   "source": [
    "invent_list"
   ]
  },
  {
   "cell_type": "code",
   "execution_count": 36,
   "id": "e5f19a8e",
   "metadata": {},
   "outputs": [],
   "source": [
    "#Assignment: - we’ve gotten the basics down, we can start using NumPy for our first tasks. As part of a promotion, we\n",
    "#want to apply a random discount to surprise our customers and generate social media buzz.\n",
    "\n",
    "prices = np.array([5.99, 6.99, 22.49, 99.99, 4.99, 49.99])\n",
    "\n",
    "#First, add a flat shipping cost of 5 to our prices to get the ‘total’ amount owed.\n",
    "total = prices + 5"
   ]
  },
  {
   "cell_type": "code",
   "execution_count": 68,
   "id": "1c5d848d",
   "metadata": {},
   "outputs": [
    {
     "data": {
      "text/plain": [
       "array([ 10.99,  11.99,  27.49, 104.99,   9.99,  54.99])"
      ]
     },
     "execution_count": 68,
     "metadata": {},
     "output_type": "execute_result"
    }
   ],
   "source": [
    "total"
   ]
  },
  {
   "cell_type": "code",
   "execution_count": null,
   "id": "b5916ee4",
   "metadata": {},
   "outputs": [],
   "source": []
  }
 ],
 "metadata": {
  "kernelspec": {
   "display_name": "Python 3",
   "language": "python",
   "name": "python3"
  },
  "language_info": {
   "codemirror_mode": {
    "name": "ipython",
    "version": 3
   },
   "file_extension": ".py",
   "mimetype": "text/x-python",
   "name": "python",
   "nbconvert_exporter": "python",
   "pygments_lexer": "ipython3",
   "version": "3.8.8"
  }
 },
 "nbformat": 4,
 "nbformat_minor": 5
}
