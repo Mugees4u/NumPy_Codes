{
 "cells": [
  {
   "cell_type": "markdown",
   "id": "5d0b92db",
   "metadata": {},
   "source": [
    "# Python Data types"
   ]
  },
  {
   "cell_type": "code",
   "execution_count": 1,
   "id": "738a18cb",
   "metadata": {},
   "outputs": [],
   "source": [
    "x = \"Hello Hyderabad\""
   ]
  },
  {
   "cell_type": "code",
   "execution_count": 2,
   "id": "2ad94cbe",
   "metadata": {},
   "outputs": [
    {
     "data": {
      "text/plain": [
       "'Hello Hyderabad'"
      ]
     },
     "execution_count": 2,
     "metadata": {},
     "output_type": "execute_result"
    }
   ],
   "source": [
    "x"
   ]
  },
  {
   "cell_type": "code",
   "execution_count": 3,
   "id": "b5584e1d",
   "metadata": {},
   "outputs": [],
   "source": [
    "x = 50"
   ]
  },
  {
   "cell_type": "code",
   "execution_count": 4,
   "id": "60cbf1ec",
   "metadata": {},
   "outputs": [
    {
     "data": {
      "text/plain": [
       "50"
      ]
     },
     "execution_count": 4,
     "metadata": {},
     "output_type": "execute_result"
    }
   ],
   "source": [
    "x"
   ]
  },
  {
   "cell_type": "code",
   "execution_count": 5,
   "id": "fb365052",
   "metadata": {},
   "outputs": [],
   "source": [
    "x = 60.5"
   ]
  },
  {
   "cell_type": "code",
   "execution_count": 6,
   "id": "17e05378",
   "metadata": {},
   "outputs": [
    {
     "data": {
      "text/plain": [
       "['My Name is Mugees Ahmad', 'I am a Business Owner']"
      ]
     },
     "execution_count": 6,
     "metadata": {},
     "output_type": "execute_result"
    }
   ],
   "source": [
    "y = ['My Name is Mugees Ahmad', 'I am a Business Owner']\n",
    "y"
   ]
  },
  {
   "cell_type": "code",
   "execution_count": 7,
   "id": "aa954a45",
   "metadata": {},
   "outputs": [
    {
     "data": {
      "text/plain": [
       "list"
      ]
     },
     "execution_count": 7,
     "metadata": {},
     "output_type": "execute_result"
    }
   ],
   "source": [
    "type(y)"
   ]
  },
  {
   "cell_type": "markdown",
   "id": "d8f77fad",
   "metadata": {},
   "source": [
    "# type() fuction is used to check type of data"
   ]
  },
  {
   "cell_type": "code",
   "execution_count": 11,
   "id": "2557067d",
   "metadata": {},
   "outputs": [
    {
     "data": {
      "text/plain": [
       "float"
      ]
     },
     "execution_count": 11,
     "metadata": {},
     "output_type": "execute_result"
    }
   ],
   "source": [
    "type(x)"
   ]
  },
  {
   "cell_type": "code",
   "execution_count": 13,
   "id": "3a0ad794",
   "metadata": {},
   "outputs": [],
   "source": [
    "k =range(10)"
   ]
  },
  {
   "cell_type": "code",
   "execution_count": 14,
   "id": "7912b5bb",
   "metadata": {},
   "outputs": [
    {
     "data": {
      "text/plain": [
       "range(0, 10)"
      ]
     },
     "execution_count": 14,
     "metadata": {},
     "output_type": "execute_result"
    }
   ],
   "source": [
    "k"
   ]
  },
  {
   "cell_type": "code",
   "execution_count": 15,
   "id": "31cec988",
   "metadata": {},
   "outputs": [
    {
     "data": {
      "text/plain": [
       "range"
      ]
     },
     "execution_count": 15,
     "metadata": {},
     "output_type": "execute_result"
    }
   ],
   "source": [
    "type(k)"
   ]
  },
  {
   "cell_type": "code",
   "execution_count": 16,
   "id": "105761ef",
   "metadata": {},
   "outputs": [
    {
     "data": {
      "text/plain": [
       "{'Name': 'Shankar Sharma', 'Age': 26}"
      ]
     },
     "execution_count": 16,
     "metadata": {},
     "output_type": "execute_result"
    }
   ],
   "source": [
    "s1 = {\"Name\": 'Shankar Sharma', \"Age\": 26}\n",
    "s1"
   ]
  },
  {
   "cell_type": "code",
   "execution_count": 17,
   "id": "132bb1f9",
   "metadata": {},
   "outputs": [
    {
     "data": {
      "text/plain": [
       "dict"
      ]
     },
     "execution_count": 17,
     "metadata": {},
     "output_type": "execute_result"
    }
   ],
   "source": [
    "type(s1)"
   ]
  },
  {
   "cell_type": "code",
   "execution_count": 18,
   "id": "68d5e3f2",
   "metadata": {},
   "outputs": [],
   "source": [
    "s = [6, 9, 8]"
   ]
  },
  {
   "cell_type": "code",
   "execution_count": 19,
   "id": "0d959370",
   "metadata": {},
   "outputs": [
    {
     "data": {
      "text/plain": [
       "[6, 9, 8]"
      ]
     },
     "execution_count": 19,
     "metadata": {},
     "output_type": "execute_result"
    }
   ],
   "source": [
    "s"
   ]
  },
  {
   "cell_type": "code",
   "execution_count": 20,
   "id": "136a5245",
   "metadata": {},
   "outputs": [
    {
     "data": {
      "text/plain": [
       "list"
      ]
     },
     "execution_count": 20,
     "metadata": {},
     "output_type": "execute_result"
    }
   ],
   "source": [
    "type(s)"
   ]
  },
  {
   "cell_type": "code",
   "execution_count": 21,
   "id": "e852f4d9",
   "metadata": {},
   "outputs": [
    {
     "data": {
      "text/plain": [
       "[65, 'Mugees', 1063]"
      ]
     },
     "execution_count": 21,
     "metadata": {},
     "output_type": "execute_result"
    }
   ],
   "source": [
    "t1 = [65, 'Mugees', 1063]\n",
    "t1"
   ]
  },
  {
   "cell_type": "code",
   "execution_count": 22,
   "id": "77009060",
   "metadata": {},
   "outputs": [
    {
     "data": {
      "text/plain": [
       "list"
      ]
     },
     "execution_count": 22,
     "metadata": {},
     "output_type": "execute_result"
    }
   ],
   "source": [
    "type(t1)"
   ]
  },
  {
   "cell_type": "code",
   "execution_count": 29,
   "id": "04b2a5d3",
   "metadata": {},
   "outputs": [],
   "source": [
    "f = frozenset({\"India\", \"Pakistan\", \"America\", \"Uganda\", \"India\"})"
   ]
  },
  {
   "cell_type": "code",
   "execution_count": 30,
   "id": "bbc48305",
   "metadata": {},
   "outputs": [
    {
     "data": {
      "text/plain": [
       "frozenset({'America', 'India', 'Pakistan', 'Uganda'})"
      ]
     },
     "execution_count": 30,
     "metadata": {},
     "output_type": "execute_result"
    }
   ],
   "source": [
    "f"
   ]
  },
  {
   "cell_type": "code",
   "execution_count": 31,
   "id": "d4b7220a",
   "metadata": {},
   "outputs": [
    {
     "data": {
      "text/plain": [
       "frozenset"
      ]
     },
     "execution_count": 31,
     "metadata": {},
     "output_type": "execute_result"
    }
   ],
   "source": [
    "type(f)"
   ]
  },
  {
   "cell_type": "code",
   "execution_count": 26,
   "id": "d71623c8",
   "metadata": {},
   "outputs": [],
   "source": [
    "f1 = {36, 14, 12, 9, 19, 9}"
   ]
  },
  {
   "cell_type": "code",
   "execution_count": 27,
   "id": "a96ab933",
   "metadata": {},
   "outputs": [
    {
     "data": {
      "text/plain": [
       "{9, 12, 14, 19, 36}"
      ]
     },
     "execution_count": 27,
     "metadata": {},
     "output_type": "execute_result"
    }
   ],
   "source": [
    "f1"
   ]
  },
  {
   "cell_type": "code",
   "execution_count": 28,
   "id": "e4f58e18",
   "metadata": {},
   "outputs": [
    {
     "data": {
      "text/plain": [
       "set"
      ]
     },
     "execution_count": 28,
     "metadata": {},
     "output_type": "execute_result"
    }
   ],
   "source": [
    "type(f1)"
   ]
  },
  {
   "cell_type": "markdown",
   "id": "a2f8e91e",
   "metadata": {},
   "source": [
    "# Numeric Data Type"
   ]
  },
  {
   "cell_type": "markdown",
   "id": "e58e9b66",
   "metadata": {},
   "source": [
    "Data that has a numeric value, It can be integer, floating oe even complex."
   ]
  },
  {
   "cell_type": "code",
   "execution_count": 53,
   "id": "182ea825",
   "metadata": {},
   "outputs": [
    {
     "name": "stdout",
     "output_type": "stream",
     "text": [
      "36\n"
     ]
    },
    {
     "data": {
      "text/plain": [
       "int"
      ]
     },
     "execution_count": 53,
     "metadata": {},
     "output_type": "execute_result"
    }
   ],
   "source": [
    "#Example of integer Data types\n",
    "\n",
    "age = 36\n",
    "print(age)\n",
    "\n",
    "type(age) #Type() fuction is used to check type of data \n",
    "\n",
    "#these value is defined in python int class in Python  "
   ]
  },
  {
   "cell_type": "markdown",
   "id": "f7325ecd",
   "metadata": {},
   "source": [
    "In, python there is no limit how long an integer value can be"
   ]
  },
  {
   "cell_type": "code",
   "execution_count": 54,
   "id": "a8d28fce",
   "metadata": {},
   "outputs": [
    {
     "name": "stdout",
     "output_type": "stream",
     "text": [
      "2.0\n",
      "2.0 <class 'float'>\n"
     ]
    }
   ],
   "source": [
    "#Example of floating data types\n",
    "\n",
    "x = 6\n",
    "y = 3\n",
    "\n",
    "z = (x/y)\n",
    "\n",
    "print(z)\n",
    "\n",
    "type(z)\n",
    "\n",
    "#these value is defined in python float class in Python \n",
    "\n",
    "\n",
    "print(z, type(z))"
   ]
  },
  {
   "cell_type": "code",
   "execution_count": 55,
   "id": "263d66de",
   "metadata": {},
   "outputs": [
    {
     "name": "stdout",
     "output_type": "stream",
     "text": [
      "1.0 <class 'float'>\n"
     ]
    }
   ],
   "source": [
    "#Example of floating data types\n",
    "\n",
    "x = 3.0\n",
    "y = 3\n",
    "\n",
    "z1 = (x/y)\n",
    "\n",
    "print(z1, type(z1))"
   ]
  },
  {
   "cell_type": "code",
   "execution_count": 56,
   "id": "45275f64",
   "metadata": {},
   "outputs": [
    {
     "name": "stdout",
     "output_type": "stream",
     "text": [
      "36.0 <class 'int'>\n"
     ]
    }
   ],
   "source": [
    "#Example of floating data types\n",
    "\n",
    "m = 6\n",
    "n = 6.0\n",
    "\n",
    "p = m*n\n",
    "print(p, type(m))"
   ]
  },
  {
   "cell_type": "code",
   "execution_count": 61,
   "id": "ea0bb7ae",
   "metadata": {},
   "outputs": [
    {
     "name": "stdout",
     "output_type": "stream",
     "text": [
      "(2+4j)\n"
     ]
    },
    {
     "data": {
      "text/plain": [
       "complex"
      ]
     },
     "execution_count": 61,
     "metadata": {},
     "output_type": "execute_result"
    }
   ],
   "source": [
    "#Example of complex data types\n",
    "\n",
    "y = 2 + 4j\n",
    "print(y)\n",
    "\n",
    "type(y)"
   ]
  },
  {
   "cell_type": "markdown",
   "id": "99ecc6db",
   "metadata": {},
   "source": [
    "# Sequence Data Type"
   ]
  },
  {
   "cell_type": "markdown",
   "id": "8f251279",
   "metadata": {},
   "source": [
    "It is a collection of similar or different data types is in organized way.\n",
    "> String | tuple |list"
   ]
  },
  {
   "cell_type": "markdown",
   "id": "b7134243",
   "metadata": {},
   "source": [
    "# String"
   ]
  },
  {
   "cell_type": "markdown",
   "id": "b091374a",
   "metadata": {},
   "source": [
    "It is an arrray of bytes.\n",
    ">It is collection of one or more characters, puts in sigle, doubble or even triple quotes."
   ]
  },
  {
   "cell_type": "code",
   "execution_count": 63,
   "id": "1fb4e227",
   "metadata": {},
   "outputs": [
    {
     "name": "stdout",
     "output_type": "stream",
     "text": [
      "Hyderabad <class 'str'>\n"
     ]
    }
   ],
   "source": [
    "#Example\n",
    "\n",
    "c = \"Hyderabad\"\n",
    "print(c, type(c))"
   ]
  },
  {
   "cell_type": "markdown",
   "id": "5ca87632",
   "metadata": {},
   "source": [
    "# Accessing of string elements"
   ]
  },
  {
   "cell_type": "markdown",
   "id": "0419638c",
   "metadata": {},
   "source": [
    "Indexing is used to access the character of strings.\n",
    "> Negative indexing is used to access elements from back\n",
    "<< M U G E E S >> -6 -5 -4 -3 -2 -1"
   ]
  },
  {
   "cell_type": "code",
   "execution_count": 83,
   "id": "18599c97",
   "metadata": {
    "scrolled": true
   },
   "outputs": [
    {
     "name": "stdout",
     "output_type": "stream",
     "text": [
      "MUGEES\n",
      "S\n",
      "S\n",
      "E\n"
     ]
    },
    {
     "data": {
      "text/plain": [
       "str"
      ]
     },
     "execution_count": 83,
     "metadata": {},
     "output_type": "execute_result"
    }
   ],
   "source": [
    "# Example Accessing of string elemnts\n",
    "\n",
    "s = \"MUGEES\"\n",
    "print(s)\n",
    "\n",
    "#Positive Access\n",
    "\n",
    "print(s[5])  #indexing start from first character with 0\n",
    "\n",
    "#Negative Access\n",
    "print(s[-1])\n",
    "\n",
    "print(s[-2])\n",
    "\n",
    "type(s)"
   ]
  },
  {
   "cell_type": "markdown",
   "id": "2f5bced1",
   "metadata": {},
   "source": [
    "## List"
   ]
  },
  {
   "cell_type": "code",
   "execution_count": 85,
   "id": "edcfef1c",
   "metadata": {},
   "outputs": [
    {
     "name": "stdout",
     "output_type": "stream",
     "text": [
      "[]\n"
     ]
    }
   ],
   "source": [
    "list = []   # blank list\n",
    "print(list)"
   ]
  },
  {
   "cell_type": "code",
   "execution_count": 90,
   "id": "f15a7d22",
   "metadata": {},
   "outputs": [
    {
     "name": "stdout",
     "output_type": "stream",
     "text": [
      "['MUGEES AHMAD']\n"
     ]
    },
    {
     "data": {
      "text/plain": [
       "list"
      ]
     },
     "execution_count": 90,
     "metadata": {},
     "output_type": "execute_result"
    }
   ],
   "source": [
    "list = [\"MUGEES AHMAD\"]\n",
    "print(list)\n",
    "type(list)"
   ]
  },
  {
   "cell_type": "code",
   "execution_count": 94,
   "id": "fbd52649",
   "metadata": {},
   "outputs": [
    {
     "name": "stdout",
     "output_type": "stream",
     "text": [
      "['pizza', 'burger', 'pasta', 'noodle'] <class 'list'>\n"
     ]
    }
   ],
   "source": [
    "#Example\n",
    "\n",
    "menu = ['pizza', 'burger', 'pasta', 'noodle']\n",
    "print(menu, type(menu))"
   ]
  },
  {
   "cell_type": "code",
   "execution_count": 95,
   "id": "2b298729",
   "metadata": {},
   "outputs": [
    {
     "name": "stdout",
     "output_type": "stream",
     "text": [
      "[['dal', 'paneer', 'mix veg'], ['Butter chicken', 'Mutton karahi', 'Paya', 'Haleem']] <class 'list'>\n"
     ]
    }
   ],
   "source": [
    "#Example\n",
    "item = [['dal', 'paneer', 'mix veg'], ['Butter chicken', 'Mutton karahi', 'Paya', 'Haleem']]\n",
    "print(item, type(item))"
   ]
  },
  {
   "cell_type": "code",
   "execution_count": 96,
   "id": "deb55194",
   "metadata": {},
   "outputs": [
    {
     "name": "stdout",
     "output_type": "stream",
     "text": [
      "noodle\n"
     ]
    }
   ],
   "source": [
    "#Accessing list item\n",
    "print(menu[-1])"
   ]
  },
  {
   "cell_type": "code",
   "execution_count": 97,
   "id": "99cda21e",
   "metadata": {},
   "outputs": [
    {
     "data": {
      "text/plain": [
       "4"
      ]
     },
     "execution_count": 97,
     "metadata": {},
     "output_type": "execute_result"
    }
   ],
   "source": [
    "len(menu)"
   ]
  },
  {
   "cell_type": "code",
   "execution_count": 98,
   "id": "cfaa75f9",
   "metadata": {},
   "outputs": [
    {
     "data": {
      "text/plain": [
       "2"
      ]
     },
     "execution_count": 98,
     "metadata": {},
     "output_type": "execute_result"
    }
   ],
   "source": [
    "len(item)"
   ]
  },
  {
   "cell_type": "code",
   "execution_count": 102,
   "id": "958b2cc0",
   "metadata": {},
   "outputs": [
    {
     "name": "stdout",
     "output_type": "stream",
     "text": [
      "paneer\n",
      "Paya\n"
     ]
    }
   ],
   "source": [
    "print(item[0][1])\n",
    "print(item[1][-2])"
   ]
  },
  {
   "cell_type": "code",
   "execution_count": 115,
   "id": "de531666",
   "metadata": {},
   "outputs": [
    {
     "name": "stdout",
     "output_type": "stream",
     "text": [
      "[['dal', 'mix veg', 'paneer'], ['chicken', 'mutton', 'haleem', 'paya'], ['rice', 'roti']]\n",
      "['dal', 'mix veg', 'paneer']\n",
      "['chicken', 'mutton', 'haleem', 'paya']\n",
      "['rice', 'roti']\n",
      "mix veg\n",
      "haleem\n",
      "rice\n"
     ]
    }
   ],
   "source": [
    "# Aceessing of list item\n",
    "\n",
    "m = [['dal', 'mix veg', 'paneer'], ['chicken', 'mutton', 'haleem', 'paya'], ['rice', 'roti']]\n",
    "print(m)  #print the list\n",
    "\n",
    "len(m) #length of list\n",
    "\n",
    "print(m[0])\n",
    "print(m[1])\n",
    "print(m[2])\n",
    "\n",
    "print(m[0][1])\n",
    "\n",
    "print(m[1][2])\n",
    "\n",
    "print(m[2][0])"
   ]
  },
  {
   "cell_type": "markdown",
   "id": "239f2fd9",
   "metadata": {},
   "source": [
    "# Tuple"
   ]
  },
  {
   "cell_type": "markdown",
   "id": "9fc508cc",
   "metadata": {},
   "source": [
    "It is similar to list data type but only diference is it is immutable, once its created can't be change. \n",
    "> Placing the value by seprated the comma with or without paranthesis."
   ]
  },
  {
   "cell_type": "code",
   "execution_count": 120,
   "id": "f0d36575",
   "metadata": {},
   "outputs": [
    {
     "name": "stdout",
     "output_type": "stream",
     "text": [
      "() <class 'tuple'>\n"
     ]
    }
   ],
   "source": [
    "#Example\n",
    "t1 = ()\n",
    "print(t1, type(t1))"
   ]
  },
  {
   "cell_type": "code",
   "execution_count": 122,
   "id": "f73f2204",
   "metadata": {},
   "outputs": [
    {
     "name": "stdout",
     "output_type": "stream",
     "text": [
      "('Mugees', 'Ahmad') <class 'tuple'>\n"
     ]
    }
   ],
   "source": [
    "t1 = 'Mugees', 'Ahmad'\n",
    "print(t1, type(t1))"
   ]
  },
  {
   "cell_type": "code",
   "execution_count": 125,
   "id": "cff1419e",
   "metadata": {},
   "outputs": [
    {
     "name": "stdout",
     "output_type": "stream",
     "text": [
      "(1, 2, 3, 4, 5) <class 'list'>\n"
     ]
    }
   ],
   "source": [
    "l1 = [1, 2, 3, 4, 5]\n",
    "print(tuple(l1), type(l1))"
   ]
  },
  {
   "cell_type": "code",
   "execution_count": 126,
   "id": "365cfee7",
   "metadata": {},
   "outputs": [
    {
     "name": "stdout",
     "output_type": "stream",
     "text": [
      "('H', 'y', 'd', 'e', 'r', 'a', 'b', 'a', 'd') <class 'tuple'>\n"
     ]
    }
   ],
   "source": [
    "t2 = tuple('Hyderabad')\n",
    "print(t2, type(t2))"
   ]
  },
  {
   "cell_type": "code",
   "execution_count": 127,
   "id": "fe92956a",
   "metadata": {},
   "outputs": [
    {
     "name": "stdout",
     "output_type": "stream",
     "text": [
      "('India', 'Pakistan', 'Nepal', 'China')\n"
     ]
    }
   ],
   "source": [
    "## Access tuple elements\n",
    "\n",
    "t3 =('India', 'Pakistan', 'Nepal', 'China')\n",
    "print(t3)"
   ]
  },
  {
   "cell_type": "code",
   "execution_count": 128,
   "id": "a50210bf",
   "metadata": {},
   "outputs": [
    {
     "name": "stdout",
     "output_type": "stream",
     "text": [
      "Nepal\n"
     ]
    }
   ],
   "source": [
    "print(t3[-2])"
   ]
  },
  {
   "cell_type": "markdown",
   "id": "31555b7f",
   "metadata": {},
   "source": [
    "Tuple Packing \n",
    "> tuple created without parenthesis"
   ]
  },
  {
   "cell_type": "code",
   "execution_count": 129,
   "id": "a03e96ed",
   "metadata": {},
   "outputs": [
    {
     "name": "stdout",
     "output_type": "stream",
     "text": [
      "(65, 36.8, 'Hyderabad', True) <class 'tuple'>\n"
     ]
    }
   ],
   "source": [
    "# Example of Tuple Packing\n",
    "\n",
    "a = 65\n",
    "b = 36.8\n",
    "c = \"Hyderabad\"\n",
    "d = True\n",
    "\n",
    "t = a, b, c, d\n",
    "\n",
    "print(t, type(t))"
   ]
  },
  {
   "cell_type": "code",
   "execution_count": 130,
   "id": "f6e3bda2",
   "metadata": {},
   "outputs": [
    {
     "name": "stdout",
     "output_type": "stream",
     "text": [
      "65 <class 'int'>\n"
     ]
    }
   ],
   "source": [
    "# Unpacking of Tuple\n",
    "\n",
    "t = (65, 36.8, \"Hyderabad\", True)\n",
    "\n",
    "a, b, c, d = t\n",
    "print(a, type(a))"
   ]
  },
  {
   "cell_type": "code",
   "execution_count": 131,
   "id": "fcba77e5",
   "metadata": {},
   "outputs": [
    {
     "name": "stdout",
     "output_type": "stream",
     "text": [
      "36.8 <class 'float'>\n"
     ]
    }
   ],
   "source": [
    "print(b, type(b))"
   ]
  },
  {
   "cell_type": "code",
   "execution_count": 132,
   "id": "ea4e96c7",
   "metadata": {},
   "outputs": [
    {
     "name": "stdout",
     "output_type": "stream",
     "text": [
      "Hyderabad <class 'str'>\n"
     ]
    }
   ],
   "source": [
    "print(c, type(c))"
   ]
  },
  {
   "cell_type": "code",
   "execution_count": 134,
   "id": "251ff0f7",
   "metadata": {},
   "outputs": [
    {
     "name": "stdout",
     "output_type": "stream",
     "text": [
      "True <class 'bool'>\n"
     ]
    }
   ],
   "source": [
    "print(d, type(d))"
   ]
  },
  {
   "cell_type": "markdown",
   "id": "cf083169",
   "metadata": {},
   "source": [
    "# Boolean Data Type"
   ]
  },
  {
   "cell_type": "code",
   "execution_count": 135,
   "id": "844d96ba",
   "metadata": {},
   "outputs": [
    {
     "name": "stdout",
     "output_type": "stream",
     "text": [
      "True\n"
     ]
    }
   ],
   "source": [
    "print(True)"
   ]
  },
  {
   "cell_type": "code",
   "execution_count": 136,
   "id": "d6cbe349",
   "metadata": {},
   "outputs": [
    {
     "name": "stdout",
     "output_type": "stream",
     "text": [
      "False <class 'bool'>\n"
     ]
    }
   ],
   "source": [
    "y = False\n",
    "print(y, type(y))"
   ]
  },
  {
   "cell_type": "code",
   "execution_count": 139,
   "id": "16f78491",
   "metadata": {},
   "outputs": [
    {
     "name": "stdout",
     "output_type": "stream",
     "text": [
      "<class 'bool'>\n"
     ]
    }
   ],
   "source": [
    "print(type(True))"
   ]
  },
  {
   "cell_type": "markdown",
   "id": "5cf7b22b",
   "metadata": {},
   "source": [
    "# Set Data Type"
   ]
  },
  {
   "cell_type": "code",
   "execution_count": 140,
   "id": "53e58d1e",
   "metadata": {},
   "outputs": [],
   "source": [
    "s1 = set()"
   ]
  },
  {
   "cell_type": "code",
   "execution_count": 142,
   "id": "f69a808b",
   "metadata": {},
   "outputs": [
    {
     "name": "stdout",
     "output_type": "stream",
     "text": [
      "set() <class 'set'>\n"
     ]
    }
   ],
   "source": [
    "print(s1, type(s1))"
   ]
  },
  {
   "cell_type": "code",
   "execution_count": 144,
   "id": "0d3fd7ca",
   "metadata": {},
   "outputs": [
    {
     "name": "stdout",
     "output_type": "stream",
     "text": [
      "{'A', 'u', 'd', 'm', 'a', 'h', 'l', 'i'}\n"
     ]
    }
   ],
   "source": [
    "s1 = set(\"Alhamdulliah\")\n",
    "print(s1)"
   ]
  },
  {
   "cell_type": "code",
   "execution_count": 145,
   "id": "bdc6f4dd",
   "metadata": {},
   "outputs": [
    {
     "name": "stdout",
     "output_type": "stream",
     "text": [
      "{'u', 'e', 'g', 'M', 's'}\n"
     ]
    }
   ],
   "source": [
    "s2 = set(\"Mugees\")\n",
    "print(s2)"
   ]
  },
  {
   "cell_type": "code",
   "execution_count": 148,
   "id": "a13afb56",
   "metadata": {},
   "outputs": [
    {
     "name": "stdout",
     "output_type": "stream",
     "text": [
      "{'Touheed', 'Roza', 'Namaz', 'Hajj', 'Zakat'} <class 'set'>\n"
     ]
    }
   ],
   "source": [
    "s3 = set(['Touheed', 'Namaz', 'Zakat', 'Roza', 'Hajj', 'Namaz'])\n",
    "print(s3, type(s3))"
   ]
  },
  {
   "cell_type": "code",
   "execution_count": 149,
   "id": "380cd2f6",
   "metadata": {},
   "outputs": [
    {
     "name": "stdout",
     "output_type": "stream",
     "text": [
      "{3, 6, 'Mugees', 12, 'Imtiyaz'}\n"
     ]
    }
   ],
   "source": [
    "s4 = set([3, 6, 'Mugees', 'Imtiyaz', 6, 12])\n",
    "print(s4)"
   ]
  },
  {
   "cell_type": "markdown",
   "id": "0312b33a",
   "metadata": {},
   "source": [
    "Access set Item\n",
    "> It can't be access by referening of index due to it's element is unordered."
   ]
  },
  {
   "cell_type": "code",
   "execution_count": 159,
   "id": "4849534f",
   "metadata": {},
   "outputs": [
    {
     "name": "stdout",
     "output_type": "stream",
     "text": [
      "{'Hyderabad', 'Telangana'}\n"
     ]
    }
   ],
   "source": [
    "#Example\n",
    "\n",
    "s1 = set(['Hyderabad', 'Telangana', 'Hyderabad'])\n",
    "\n",
    "print(s1)"
   ]
  },
  {
   "cell_type": "code",
   "execution_count": 160,
   "id": "0a2367e7",
   "metadata": {},
   "outputs": [
    {
     "name": "stdout",
     "output_type": "stream",
     "text": [
      "Hyderabad Telangana True\n"
     ]
    }
   ],
   "source": [
    "for i in s1:\n",
    "    print(i, end=\" \")\n",
    "print('Hyderabad' in s1)\n"
   ]
  },
  {
   "cell_type": "markdown",
   "id": "6b81e497",
   "metadata": {},
   "source": [
    "# Dictinory "
   ]
  },
  {
   "cell_type": "code",
   "execution_count": 161,
   "id": "019539d8",
   "metadata": {},
   "outputs": [
    {
     "name": "stdout",
     "output_type": "stream",
     "text": [
      "{} <class 'dict'>\n"
     ]
    }
   ],
   "source": [
    "d = {}\n",
    "print(d, type(d))"
   ]
  },
  {
   "cell_type": "code",
   "execution_count": 163,
   "id": "3a5f7634",
   "metadata": {},
   "outputs": [
    {
     "name": "stdout",
     "output_type": "stream",
     "text": [
      "{1: 'India', 2: 'Japan', 3: 'Australia', 4: 'Srilanka', 5: 'Malysia'}\n"
     ]
    }
   ],
   "source": [
    "d1 = {1: 'India', 2: 'Japan', 3: 'Australia', 4: 'Srilanka', 5: 'Malysia'}\n",
    "print(d1)"
   ]
  },
  {
   "cell_type": "code",
   "execution_count": 173,
   "id": "75912fa6",
   "metadata": {},
   "outputs": [
    {
     "name": "stdout",
     "output_type": "stream",
     "text": [
      "{'Name': 'Mugees', 2: [1, 2, 3]}\n"
     ]
    }
   ],
   "source": [
    "d2 = {'Name': 'Mugees', 2:[1,2, 3]}\n",
    "print(d2)"
   ]
  },
  {
   "cell_type": "code",
   "execution_count": 174,
   "id": "2cf33e18",
   "metadata": {},
   "outputs": [
    {
     "data": {
      "text/plain": [
       "2"
      ]
     },
     "execution_count": 174,
     "metadata": {},
     "output_type": "execute_result"
    }
   ],
   "source": [
    "len(d2)"
   ]
  },
  {
   "cell_type": "code",
   "execution_count": 175,
   "id": "373a10e6",
   "metadata": {},
   "outputs": [
    {
     "data": {
      "text/plain": [
       "dict"
      ]
     },
     "execution_count": 175,
     "metadata": {},
     "output_type": "execute_result"
    }
   ],
   "source": [
    "type(d2)"
   ]
  },
  {
   "cell_type": "code",
   "execution_count": 176,
   "id": "f5080526",
   "metadata": {},
   "outputs": [
    {
     "name": "stdout",
     "output_type": "stream",
     "text": [
      "{1: 'Male', 2: 'Female', 3: 'Transgender', 4: 'Others'}\n"
     ]
    }
   ],
   "source": [
    "d3 = dict({1: 'Male', 2: 'Female', 3: 'Transgender', 4: 'Others'})\n",
    "print(d3)"
   ]
  },
  {
   "cell_type": "code",
   "execution_count": 177,
   "id": "59231515",
   "metadata": {},
   "outputs": [
    {
     "name": "stdout",
     "output_type": "stream",
     "text": [
      "Transgender\n"
     ]
    }
   ],
   "source": [
    "#Accessing the item from dictonary\n",
    "\n",
    "print(d3[3])"
   ]
  },
  {
   "cell_type": "code",
   "execution_count": 179,
   "id": "d85890c6",
   "metadata": {},
   "outputs": [
    {
     "name": "stdout",
     "output_type": "stream",
     "text": [
      "Mugees\n"
     ]
    }
   ],
   "source": [
    "#using get()\n",
    "print(d2.get('Name'))"
   ]
  },
  {
   "cell_type": "code",
   "execution_count": 200,
   "id": "f5802938",
   "metadata": {},
   "outputs": [
    {
     "name": "stdout",
     "output_type": "stream",
     "text": [
      "['Orange', 'Grapes', 'Guava', 'banana']\n"
     ]
    },
    {
     "data": {
      "text/plain": [
       "['Grapes', 'Guava', 'banana']"
      ]
     },
     "execution_count": 200,
     "metadata": {},
     "output_type": "execute_result"
    }
   ],
   "source": [
    "#Assignment1\n",
    "\n",
    "l1 = ['Orange', 'Grapes', 'Guava'] # list l1 is created\n",
    "\n",
    "l1\n",
    "\n",
    "# Adding one element (banana) into list1 \n",
    "\n",
    "l1.append('banana')  # append() is use for adding an element onto list\n",
    "\n",
    "print(l1)\n",
    "\n",
    "# Removing one element (Orange) from the list l1\n",
    "\n",
    "l1.remove('Orange')  #remove() is used for the removing an item from list\n",
    "l1"
   ]
  },
  {
   "cell_type": "code",
   "execution_count": 201,
   "id": "35ceb43c",
   "metadata": {},
   "outputs": [
    {
     "name": "stdout",
     "output_type": "stream",
     "text": [
      "(3, 5)\n",
      "x-coordinate: 3\n",
      "y-coordinate: 5\n"
     ]
    }
   ],
   "source": [
    "#Assignment2\n",
    "\n",
    "cord = (3, 5)  #create a tuple having 2 value \n",
    "print(cord)\n",
    "\n",
    "print(\"x-coordinate:\", cord[0])\n",
    "print(\"y-coordinate:\", cord[1])"
   ]
  },
  {
   "cell_type": "code",
   "execution_count": 202,
   "id": "697713c6",
   "metadata": {},
   "outputs": [
    {
     "name": "stdout",
     "output_type": "stream",
     "text": [
      "frozenset({'e', 'u', 'o', 'a', 'i'})\n"
     ]
    }
   ],
   "source": [
    "#Frozenset\n",
    "\n",
    "v = {'a', 'e', 'i', 'o', 'u'}\n",
    "fset = frozenset(v)\n",
    "print(fset)"
   ]
  },
  {
   "cell_type": "code",
   "execution_count": 203,
   "id": "25b8ba6b",
   "metadata": {},
   "outputs": [
    {
     "name": "stdout",
     "output_type": "stream",
     "text": [
      "<class 'frozenset'>\n"
     ]
    }
   ],
   "source": [
    "print(type(fset))"
   ]
  },
  {
   "cell_type": "code",
   "execution_count": 204,
   "id": "e0a44e49",
   "metadata": {},
   "outputs": [
    {
     "name": "stdout",
     "output_type": "stream",
     "text": [
      "<class 'set'>\n"
     ]
    }
   ],
   "source": [
    "print(type(v))"
   ]
  },
  {
   "cell_type": "code",
   "execution_count": null,
   "id": "49bdcbfc",
   "metadata": {},
   "outputs": [],
   "source": []
  }
 ],
 "metadata": {
  "kernelspec": {
   "display_name": "Python 3",
   "language": "python",
   "name": "python3"
  },
  "language_info": {
   "codemirror_mode": {
    "name": "ipython",
    "version": 3
   },
   "file_extension": ".py",
   "mimetype": "text/x-python",
   "name": "python",
   "nbconvert_exporter": "python",
   "pygments_lexer": "ipython3",
   "version": "3.8.8"
  }
 },
 "nbformat": 4,
 "nbformat_minor": 5
}
