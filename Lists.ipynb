{
  "cells": [
    {
      "cell_type": "markdown",
      "metadata": {
        "id": "view-in-github",
        "colab_type": "text"
      },
      "source": [
        "<a href=\"https://colab.research.google.com/github/Mugees4u/NumPy_Codes/blob/main/Lists.ipynb\" target=\"_parent\"><img src=\"https://colab.research.google.com/assets/colab-badge.svg\" alt=\"Open In Colab\"/></a>"
      ]
    },
    {
      "cell_type": "code",
      "execution_count": null,
      "metadata": {
        "colab": {
          "background_save": true,
          "base_uri": "https://localhost:8080/"
        },
        "id": "6Pg8Y63Gjdir",
        "outputId": "6a28a4e8-2767-43d4-b17f-d3fefb6962d3"
      },
      "outputs": [
        {
          "data": {
            "text/plain": [
              "[1, 5, 6, 9, 21]"
            ]
          },
          "execution_count": 1,
          "metadata": {},
          "output_type": "execute_result"
        }
      ],
      "source": [
        "# Python known a number of compund data types used to group together other values\n",
        "\n",
        "# List most versitile is written as comma-seprated values [item] between square brackets [].\n",
        "\n",
        "# List might contains items of different types, but usually the items all have the same types.\n",
        "\n",
        "square = [1, 5, 6, 9, 21]\n",
        "square"
      ]
    },
    {
      "cell_type": "code",
      "execution_count": null,
      "metadata": {
        "colab": {
          "base_uri": "https://localhost:8080/"
        },
        "id": "_obcUzJOlW3p",
        "outputId": "ec9632b5-adbf-4984-c113-a988c923b3b7"
      },
      "outputs": [
        {
          "data": {
            "text/plain": [
              "[5, 6, 9, 21]"
            ]
          },
          "execution_count": 7,
          "metadata": {},
          "output_type": "execute_result"
        }
      ],
      "source": [
        "# List can be indexed or sliced\n",
        "\n",
        "square[1:]"
      ]
    },
    {
      "cell_type": "code",
      "execution_count": null,
      "metadata": {
        "colab": {
          "base_uri": "https://localhost:8080/"
        },
        "id": "lUO1T9lqlcD7",
        "outputId": "4898e0ca-0119-4e64-c46c-286e28475fc5"
      },
      "outputs": [
        {
          "data": {
            "text/plain": [
              "[6]"
            ]
          },
          "execution_count": 8,
          "metadata": {},
          "output_type": "execute_result"
        }
      ],
      "source": [
        "square[2:3]"
      ]
    },
    {
      "cell_type": "code",
      "execution_count": null,
      "metadata": {
        "colab": {
          "base_uri": "https://localhost:8080/"
        },
        "id": "G5G871WYmOWb",
        "outputId": "eed350f5-95af-44d5-f8cc-fad23e9cc322"
      },
      "outputs": [
        {
          "data": {
            "text/plain": [
              "[1, 5, 6, 9, 21, 13, 68, 78, 82, 95]"
            ]
          },
          "execution_count": 9,
          "metadata": {},
          "output_type": "execute_result"
        }
      ],
      "source": [
        "# List can be cancatenated\n",
        "\n",
        "square + [13,68, 78, 82, 95]"
      ]
    },
    {
      "cell_type": "code",
      "execution_count": null,
      "metadata": {
        "colab": {
          "base_uri": "https://localhost:8080/"
        },
        "id": "8rADeeJhmYGM",
        "outputId": "51344d82-9f9a-4d6a-9b73-19d8825bfdd5"
      },
      "outputs": [
        {
          "data": {
            "text/plain": [
              "5"
            ]
          },
          "execution_count": 10,
          "metadata": {},
          "output_type": "execute_result"
        }
      ],
      "source": [
        "len(square)"
      ]
    },
    {
      "cell_type": "code",
      "execution_count": null,
      "metadata": {
        "colab": {
          "base_uri": "https://localhost:8080/"
        },
        "id": "O1-QuodGmbD2",
        "outputId": "b8e0b3a9-e3a9-47cf-b717-d08574e55743"
      },
      "outputs": [
        {
          "data": {
            "text/plain": [
              "[1, 8, 27, 65, 125, 216]"
            ]
          },
          "execution_count": 11,
          "metadata": {},
          "output_type": "execute_result"
        }
      ],
      "source": [
        "# Lists are mutable, changes can be possible to their contents\n",
        "\n",
        "cubes = [1, 8, 27, 65, 125, 216]\n",
        "cubes"
      ]
    },
    {
      "cell_type": "code",
      "execution_count": null,
      "metadata": {
        "colab": {
          "base_uri": "https://localhost:8080/"
        },
        "id": "CSElprjJnX37",
        "outputId": "faed1129-1e86-40f6-d225-17460b6f00c1"
      },
      "outputs": [
        {
          "data": {
            "text/plain": [
              "64"
            ]
          },
          "execution_count": 12,
          "metadata": {},
          "output_type": "execute_result"
        }
      ],
      "source": [
        "# something is wrong in above\n",
        "4 ** 3 # The cube of 4 is 64 not 65\n"
      ]
    },
    {
      "cell_type": "code",
      "execution_count": null,
      "metadata": {
        "colab": {
          "base_uri": "https://localhost:8080/"
        },
        "id": "LdcoKjRrnoYm",
        "outputId": "27b7362d-0791-4275-9083-24165eadd18d"
      },
      "outputs": [
        {
          "data": {
            "text/plain": [
              "[1, 8, 27, 64, 125, 216]"
            ]
          },
          "execution_count": 13,
          "metadata": {},
          "output_type": "execute_result"
        }
      ],
      "source": [
        "cubes[3] = 64\n",
        "cubes"
      ]
    },
    {
      "cell_type": "code",
      "execution_count": null,
      "metadata": {
        "colab": {
          "base_uri": "https://localhost:8080/"
        },
        "id": "M2KoXYlYp5rz",
        "outputId": "eaa503b5-2b50-466a-8ac9-becb2fc4de05"
      },
      "outputs": [
        {
          "data": {
            "text/plain": [
              "[1, 8, 27, 64, 125, 216, 243, 243, 243, 243, 343]"
            ]
          },
          "execution_count": 19,
          "metadata": {},
          "output_type": "execute_result"
        }
      ],
      "source": [
        "cubes.append(7**3)\n",
        "cubes"
      ]
    },
    {
      "cell_type": "code",
      "execution_count": null,
      "metadata": {
        "colab": {
          "base_uri": "https://localhost:8080/"
        },
        "id": "xo5IpmTQqu4A",
        "outputId": "5da6b886-f30f-4202-daf1-01874f334691"
      },
      "outputs": [
        {
          "data": {
            "text/plain": [
              "True"
            ]
          },
          "execution_count": 20,
          "metadata": {},
          "output_type": "execute_result"
        }
      ],
      "source": [
        "rgb = ['Red', 'Green', 'Blue']\n",
        "rgba = rgb\n",
        "id(rgb) == id(rgba)"
      ]
    },
    {
      "cell_type": "code",
      "execution_count": null,
      "metadata": {
        "colab": {
          "background_save": true
        },
        "id": "VPwxCkdzr8rZ",
        "outputId": "33aaef14-746a-47d4-8981-f6893aa3023f"
      },
      "outputs": [
        {
          "data": {
            "text/plain": [
              "['Red', 'Green', 'Blue', 'Alpha']"
            ]
          },
          "execution_count": 21,
          "metadata": {},
          "output_type": "execute_result"
        }
      ],
      "source": []
    }
  ],
  "metadata": {
    "colab": {
      "provenance": [],
      "authorship_tag": "ABX9TyNuNPxP4fk/NfO+BcBo8ARf",
      "include_colab_link": true
    },
    "kernelspec": {
      "display_name": "Python 3",
      "name": "python3"
    },
    "language_info": {
      "name": "python"
    }
  },
  "nbformat": 4,
  "nbformat_minor": 0
}