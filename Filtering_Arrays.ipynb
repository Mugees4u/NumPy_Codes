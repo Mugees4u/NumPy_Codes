{
 "cells": [
  {
   "cell_type": "code",
   "execution_count": 1,
   "id": "dbbf4446",
   "metadata": {},
   "outputs": [],
   "source": [
    "import numpy as np"
   ]
  },
  {
   "cell_type": "markdown",
   "id": "1f81c1aa",
   "metadata": {},
   "source": [
    "- Getting some elements out of an existing array and creating a new array called filtering.\n",
    "\n",
    "- If the value at an index is True that the element is contained in the filter array, if the value at that index is False that the element is excluded from that filtered array.\n",
    "\n",
    "- Filtering Array by indexing them with logical test\n",
    "\n",
    "- Only the array elements in positions where the logical test returns True are returned\n",
    "\n"
   ]
  },
  {
   "cell_type": "code",
   "execution_count": 3,
   "id": "72920e7b",
   "metadata": {},
   "outputs": [],
   "source": [
    "sales = [[5, 8, 0, 6, 10],\n",
    "        [7, 9, 9, 0, 8]]"
   ]
  },
  {
   "cell_type": "code",
   "execution_count": 4,
   "id": "7aea9205",
   "metadata": {},
   "outputs": [],
   "source": [
    "sales_array = np.array(sales)"
   ]
  },
  {
   "cell_type": "code",
   "execution_count": 5,
   "id": "720aa7d6",
   "metadata": {},
   "outputs": [
    {
     "data": {
      "text/plain": [
       "array([[ 5,  8,  0,  6, 10],\n",
       "       [ 7,  9,  9,  0,  8]])"
      ]
     },
     "execution_count": 5,
     "metadata": {},
     "output_type": "execute_result"
    }
   ],
   "source": [
    "sales_array"
   ]
  },
  {
   "cell_type": "code",
   "execution_count": 7,
   "id": "4f0bbc8b",
   "metadata": {},
   "outputs": [
    {
     "data": {
      "text/plain": [
       "array([[ True,  True, False,  True,  True],\n",
       "       [ True,  True,  True, False,  True]])"
      ]
     },
     "execution_count": 7,
     "metadata": {},
     "output_type": "execute_result"
    }
   ],
   "source": [
    "sales_array != 0"
   ]
  },
  {
   "cell_type": "code",
   "execution_count": 10,
   "id": "78bb5730",
   "metadata": {},
   "outputs": [
    {
     "data": {
      "text/plain": [
       "array([ 5,  8,  6, 10,  7,  9,  9,  8])"
      ]
     },
     "execution_count": 10,
     "metadata": {},
     "output_type": "execute_result"
    }
   ],
   "source": [
    "sales_array[sales_array != 0]"
   ]
  },
  {
   "cell_type": "code",
   "execution_count": 15,
   "id": "d02ef9b0",
   "metadata": {},
   "outputs": [],
   "source": [
    "sales = ([0, 5, 155, 0, 518],\n",
    "                      [0, 1827, 616, 317, 325])"
   ]
  },
  {
   "cell_type": "code",
   "execution_count": 16,
   "id": "fa1a04e0",
   "metadata": {},
   "outputs": [],
   "source": [
    "sales_array = np.array(sales)"
   ]
  },
  {
   "cell_type": "code",
   "execution_count": 20,
   "id": "026b7575",
   "metadata": {},
   "outputs": [
    {
     "data": {
      "text/plain": [
       "array([[   0,    5,  155,    0,  518],\n",
       "       [   0, 1827,  616,  317,  325]])"
      ]
     },
     "execution_count": 20,
     "metadata": {},
     "output_type": "execute_result"
    }
   ],
   "source": [
    "sales_array"
   ]
  },
  {
   "cell_type": "code",
   "execution_count": 17,
   "id": "3868f3c6",
   "metadata": {},
   "outputs": [
    {
     "data": {
      "text/plain": [
       "array([  0,   5,   0,   0, 616])"
      ]
     },
     "execution_count": 17,
     "metadata": {},
     "output_type": "execute_result"
    }
   ],
   "source": [
    "sales_array[(sales_array == 616) | (sales_array < 100)]"
   ]
  },
  {
   "cell_type": "code",
   "execution_count": 19,
   "id": "e8b07cd0",
   "metadata": {},
   "outputs": [
    {
     "data": {
      "text/plain": [
       "array([155, 317, 325])"
      ]
     },
     "execution_count": 19,
     "metadata": {},
     "output_type": "execute_result"
    }
   ],
   "source": [
    "sales_array[(sales_array > 100) & (sales_array < 500)]"
   ]
  },
  {
   "cell_type": "code",
   "execution_count": 21,
   "id": "9a27393e",
   "metadata": {},
   "outputs": [],
   "source": [
    "mask = (sales_array > 100) & (sales_array <500)"
   ]
  },
  {
   "cell_type": "code",
   "execution_count": 22,
   "id": "29e0e271",
   "metadata": {},
   "outputs": [
    {
     "data": {
      "text/plain": [
       "array([155, 317, 325])"
      ]
     },
     "execution_count": 22,
     "metadata": {},
     "output_type": "execute_result"
    }
   ],
   "source": [
    "sales_array[mask]"
   ]
  },
  {
   "cell_type": "code",
   "execution_count": 23,
   "id": "7c5ed331",
   "metadata": {},
   "outputs": [],
   "source": [
    "#filter arrays based on values in other array"
   ]
  },
  {
   "cell_type": "code",
   "execution_count": 25,
   "id": "b6529adf",
   "metadata": {},
   "outputs": [
    {
     "data": {
      "text/plain": [
       "array([[   0,    5,  155,    0,  518],\n",
       "       [   0, 1827,  616,  317,  325]])"
      ]
     },
     "execution_count": 25,
     "metadata": {},
     "output_type": "execute_result"
    }
   ],
   "source": [
    "sales_array"
   ]
  },
  {
   "cell_type": "code",
   "execution_count": 28,
   "id": "d547502a",
   "metadata": {},
   "outputs": [
    {
     "data": {
      "text/plain": [
       "array([41, 43])"
      ]
     },
     "execution_count": 28,
     "metadata": {},
     "output_type": "execute_result"
    }
   ],
   "source": [
    "arr = np.array([41, 42, 43, 44])\n",
    "\n",
    "x = [True, False, True, False]\n",
    "\n",
    "newarr = arr[x]\n",
    "newarr"
   ]
  },
  {
   "cell_type": "code",
   "execution_count": 85,
   "id": "4896116e",
   "metadata": {},
   "outputs": [],
   "source": [
    "#Creating a filter array that return the values higher than 42\n",
    "\n",
    "import numpy as np\n",
    "\n",
    "arr = np.array([41, 42, 43, 44])\n",
    "\n",
    "#create an empty list\n",
    "filter_arr = []"
   ]
  },
  {
   "cell_type": "code",
   "execution_count": 86,
   "id": "dcc218a6",
   "metadata": {},
   "outputs": [
    {
     "data": {
      "text/plain": [
       "array([], dtype=int32)"
      ]
     },
     "execution_count": 86,
     "metadata": {},
     "output_type": "execute_result"
    }
   ],
   "source": [
    "arr[filter_arr]"
   ]
  },
  {
   "cell_type": "code",
   "execution_count": 87,
   "id": "167f59c5",
   "metadata": {},
   "outputs": [],
   "source": [
    "#go through each element in arr\n",
    "\n",
    "for element in a:\n",
    "    #if the element is higher than 42, set the value True, otherwise False:\n",
    "    if element > 42:\n",
    "        filter_arr.append(True)\n",
    "    else:\n",
    "        filter_arr.append(False)\n"
   ]
  },
  {
   "cell_type": "code",
   "execution_count": 88,
   "id": "fa59974c",
   "metadata": {},
   "outputs": [],
   "source": [
    "new_arr = arr[filter_arr]"
   ]
  },
  {
   "cell_type": "code",
   "execution_count": 89,
   "id": "272e841a",
   "metadata": {},
   "outputs": [
    {
     "name": "stdout",
     "output_type": "stream",
     "text": [
      "[False, False, True, True]\n"
     ]
    }
   ],
   "source": [
    "print(filter_arr)"
   ]
  },
  {
   "cell_type": "code",
   "execution_count": 90,
   "id": "4996f920",
   "metadata": {},
   "outputs": [
    {
     "name": "stdout",
     "output_type": "stream",
     "text": [
      "[43 44]\n"
     ]
    }
   ],
   "source": [
    "print(new_arr)"
   ]
  },
  {
   "cell_type": "code",
   "execution_count": 104,
   "id": "6c7e1817",
   "metadata": {},
   "outputs": [
    {
     "data": {
      "text/plain": [
       "array([ 1,  2,  3,  4,  5,  6,  7,  8,  9, 10])"
      ]
     },
     "execution_count": 104,
     "metadata": {},
     "output_type": "execute_result"
    }
   ],
   "source": [
    "#creation of an array return only even element\n",
    "\n",
    "import numpy as np\n",
    "\n",
    "arr1 = np.array([1, 2, 3, 4, 5, 6, 7, 8, 9, 10])\n",
    "\n",
    "arr1"
   ]
  },
  {
   "cell_type": "code",
   "execution_count": 110,
   "id": "5c275455",
   "metadata": {},
   "outputs": [],
   "source": [
    "#Creating a empty array\n",
    "filter_array1 = []"
   ]
  },
  {
   "cell_type": "code",
   "execution_count": 111,
   "id": "c43da023",
   "metadata": {},
   "outputs": [
    {
     "data": {
      "text/plain": [
       "[]"
      ]
     },
     "execution_count": 111,
     "metadata": {},
     "output_type": "execute_result"
    }
   ],
   "source": [
    "filter_array1"
   ]
  },
  {
   "cell_type": "code",
   "execution_count": 114,
   "id": "9de8119c",
   "metadata": {},
   "outputs": [],
   "source": [
    "#logial part element is even\n",
    "for element in arr1:\n",
    "    if element % 2 == 0:\n",
    "        filter_array1.append(True)\n",
    "    else:\n",
    "        filter_array1.append(False)\n"
   ]
  },
  {
   "cell_type": "code",
   "execution_count": 116,
   "id": "eb02c6d8",
   "metadata": {
    "scrolled": true
   },
   "outputs": [
    {
     "data": {
      "text/plain": [
       "[False, True, False, True, False, True, False, True, False, True]"
      ]
     },
     "execution_count": 116,
     "metadata": {},
     "output_type": "execute_result"
    }
   ],
   "source": [
    "filter_array1"
   ]
  },
  {
   "cell_type": "code",
   "execution_count": 120,
   "id": "b99b6ce5",
   "metadata": {
    "scrolled": true
   },
   "outputs": [],
   "source": [
    "new_arr = arr1[filter_array1]"
   ]
  },
  {
   "cell_type": "code",
   "execution_count": 121,
   "id": "01f7b422",
   "metadata": {},
   "outputs": [
    {
     "data": {
      "text/plain": [
       "array([ 2,  4,  6,  8, 10])"
      ]
     },
     "execution_count": 121,
     "metadata": {},
     "output_type": "execute_result"
    }
   ],
   "source": [
    "new_arr"
   ]
  },
  {
   "cell_type": "code",
   "execution_count": 123,
   "id": "b1e22d80",
   "metadata": {},
   "outputs": [],
   "source": [
    "#Filter Directly from Array\n",
    "\n",
    "x = np.array([16, 25, 38, 42, 65, 70])\n",
    "\n",
    "new_arr = x > 42"
   ]
  },
  {
   "cell_type": "code",
   "execution_count": 124,
   "id": "5f2b2e34",
   "metadata": {},
   "outputs": [
    {
     "data": {
      "text/plain": [
       "array([False, False, False, False,  True,  True])"
      ]
     },
     "execution_count": 124,
     "metadata": {},
     "output_type": "execute_result"
    }
   ],
   "source": [
    "new_arr"
   ]
  },
  {
   "cell_type": "code",
   "execution_count": 125,
   "id": "e8d59c6b",
   "metadata": {},
   "outputs": [],
   "source": [
    "my_array = np.arange(20)"
   ]
  },
  {
   "cell_type": "code",
   "execution_count": 126,
   "id": "27718eb0",
   "metadata": {},
   "outputs": [
    {
     "data": {
      "text/plain": [
       "array([ 0,  1,  2,  3,  4,  5,  6,  7,  8,  9, 10, 11, 12, 13, 14, 15, 16,\n",
       "       17, 18, 19])"
      ]
     },
     "execution_count": 126,
     "metadata": {},
     "output_type": "execute_result"
    }
   ],
   "source": [
    "my_array"
   ]
  },
  {
   "cell_type": "code",
   "execution_count": 142,
   "id": "824c445d",
   "metadata": {},
   "outputs": [
    {
     "data": {
      "text/plain": [
       "array([ 0,  2,  4,  6,  8, 10, 12, 14, 16, 18])"
      ]
     },
     "execution_count": 142,
     "metadata": {},
     "output_type": "execute_result"
    }
   ],
   "source": [
    "my_array[my_array % 2 == 0 ]"
   ]
  },
  {
   "cell_type": "code",
   "execution_count": 148,
   "id": "8b82b8c5",
   "metadata": {},
   "outputs": [
    {
     "data": {
      "text/plain": [
       "array([['even', 'odd', 'even', 'odd', 'even'],\n",
       "       ['odd', 'even', 'odd', 'even', 'odd'],\n",
       "       ['even', 'odd', 'even', 'odd', 'even'],\n",
       "       ['odd', 'even', 'odd', 'even', 'odd']], dtype='<U4')"
      ]
     },
     "execution_count": 148,
     "metadata": {},
     "output_type": "execute_result"
    }
   ],
   "source": [
    "even_odd = np.array(['even', 'odd'] * 10)\n",
    "even_odd.reshape(4, 5)"
   ]
  },
  {
   "cell_type": "code",
   "execution_count": 149,
   "id": "e9af7f4a",
   "metadata": {},
   "outputs": [
    {
     "data": {
      "text/plain": [
       "array([ True, False,  True, False,  True, False,  True, False,  True,\n",
       "       False,  True, False,  True, False,  True, False,  True, False,\n",
       "        True, False])"
      ]
     },
     "execution_count": 149,
     "metadata": {},
     "output_type": "execute_result"
    }
   ],
   "source": [
    "even_odd != 'odd'"
   ]
  },
  {
   "cell_type": "code",
   "execution_count": 150,
   "id": "7a9ad4df",
   "metadata": {},
   "outputs": [
    {
     "name": "stderr",
     "output_type": "stream",
     "text": [
      "<ipython-input-150-6d212b788214>:1: FutureWarning: elementwise comparison failed; returning scalar instead, but in the future will perform elementwise comparison\n",
      "  even_odd[even_odd!= 0]\n"
     ]
    },
    {
     "data": {
      "text/plain": [
       "array([['even', 'odd', 'even', 'odd', 'even', 'odd', 'even', 'odd',\n",
       "        'even', 'odd', 'even', 'odd', 'even', 'odd', 'even', 'odd',\n",
       "        'even', 'odd', 'even', 'odd']], dtype='<U4')"
      ]
     },
     "execution_count": 150,
     "metadata": {},
     "output_type": "execute_result"
    }
   ],
   "source": [
    "even_odd[even_odd!= 0]"
   ]
  },
  {
   "cell_type": "code",
   "execution_count": null,
   "id": "514b8f67",
   "metadata": {},
   "outputs": [],
   "source": []
  }
 ],
 "metadata": {
  "kernelspec": {
   "display_name": "Python 3",
   "language": "python",
   "name": "python3"
  },
  "language_info": {
   "codemirror_mode": {
    "name": "ipython",
    "version": 3
   },
   "file_extension": ".py",
   "mimetype": "text/x-python",
   "name": "python",
   "nbconvert_exporter": "python",
   "pygments_lexer": "ipython3",
   "version": "3.8.8"
  }
 },
 "nbformat": 4,
 "nbformat_minor": 5
}
