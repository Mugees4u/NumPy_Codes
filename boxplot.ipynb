{
 "cells": [
  {
   "cell_type": "markdown",
   "id": "66202349",
   "metadata": {},
   "source": [
    "# Boxplot (The Box-and-Wishker Plot)"
   ]
  },
  {
   "cell_type": "markdown",
   "id": "3839e5c7",
   "metadata": {},
   "source": [
    "five main key points\n",
    "\n",
    "1. min - Minimum value of data range\n",
    "2. Q1 - first quartile (lower quartile range)\n",
    "3. Median - Median of data range\n",
    "4. Q3 - third quatile (Upper Quartile range)\n",
    "5. Max - Maximum value of data range"
   ]
  },
  {
   "cell_type": "code",
   "execution_count": 1,
   "id": "f27e7fbc",
   "metadata": {},
   "outputs": [],
   "source": [
    "#Example:\n",
    "import numpy as np\n",
    "import matplotlib.pyplot as plt"
   ]
  },
  {
   "cell_type": "code",
   "execution_count": 4,
   "id": "235ca0d4",
   "metadata": {},
   "outputs": [],
   "source": [
    "#creating a dataset\n",
    "np.random.seed(10)\n",
    "data = np.random.normal(100, 20, 200)"
   ]
  },
  {
   "cell_type": "code",
   "execution_count": 5,
   "id": "161252a1",
   "metadata": {},
   "outputs": [
    {
     "data": {
      "text/plain": [
       "<Figure size 720x504 with 0 Axes>"
      ]
     },
     "metadata": {},
     "output_type": "display_data"
    }
   ],
   "source": [
    "fig = plt.figure(figsize=(10,7))"
   ]
  },
  {
   "cell_type": "code",
   "execution_count": 7,
   "id": "4a4df54b",
   "metadata": {},
   "outputs": [
    {
     "data": {
      "image/png": "[encoded data removed]",
      "text/plain": [
       "<Figure size 432x288 with 1 Axes>"
      ]
     },
     "metadata": {
      "needs_background": "light"
     },
     "output_type": "display_data"
    }
   ],
   "source": [
    "#creating plot\n",
    "plt.boxplot(data)\n",
    "\n",
    "plt.show()"
   ]
  },
  {
   "cell_type": "code",
   "execution_count": 9,
   "id": "3aac044c",
   "metadata": {},
   "outputs": [
    {
     "data": {
      "text/plain": [
       "<Figure size 864x504 with 0 Axes>"
      ]
     },
     "metadata": {},
     "output_type": "display_data"
    }
   ],
   "source": [
    "#Example\n",
    "\n",
    "import numpy as np\n",
    "import matplotlib.pyplot as plt\n",
    "\n",
    "n = [3, 3, 7, 8, 8, 10, 11, 12, 15, 18]\n",
    "\n",
    "fig = plt.figure(figsize = (12, 7))"
   ]
  },
  {
   "cell_type": "code",
   "execution_count": 11,
   "id": "f6ddab87",
   "metadata": {},
   "outputs": [
    {
     "data": {
      "image/png": "[encoded data removed]",
      "text/plain": [
       "<Figure size 432x288 with 1 Axes>"
      ]
     },
     "metadata": {
      "needs_background": "light"
     },
     "output_type": "display_data"
    }
   ],
   "source": [
    "plt.boxplot(n)\n",
    "plt.show()"
   ]
  },
  {
   "cell_type": "code",
   "execution_count": 16,
   "id": "7d296b59",
   "metadata": {},
   "outputs": [
    {
     "data": {
      "image/png": "[encoded data removed]",
      "text/plain": [
       "<Figure size 864x504 with 1 Axes>"
      ]
     },
     "metadata": {
      "needs_background": "light"
     },
     "output_type": "display_data"
    }
   ],
   "source": [
    "#Example: \n",
    "\n",
    "import numpy as np\n",
    "import matplotlib.pyplot as plt\n",
    "\n",
    "#dataset\n",
    "yop = [3,3, 6, 6, 12, 19, 21, 23]\n",
    "\n",
    "#create a figure\n",
    "\n",
    "plt.figure(figsize = (12, 7))\n",
    "\n",
    "#plot \n",
    "plt.boxplot(yop)\n",
    "plt.show()"
   ]
  },
  {
   "cell_type": "code",
   "execution_count": null,
   "id": "2f862df9",
   "metadata": {},
   "outputs": [],
   "source": []
  }
 ],
 "metadata": {
  "kernelspec": {
   "display_name": "Python 3",
   "language": "python",
   "name": "python3"
  },
  "language_info": {
   "codemirror_mode": {
    "name": "ipython",
    "version": 3
   },
   "file_extension": ".py",
   "mimetype": "text/x-python",
   "name": "python",
   "nbconvert_exporter": "python",
   "pygments_lexer": "ipython3",
   "version": "3.8.8"
  }
 },
 "nbformat": 4,
 "nbformat_minor": 5
}
