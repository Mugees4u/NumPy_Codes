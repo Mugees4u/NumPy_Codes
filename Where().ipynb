{
 "cells": [
  {
   "cell_type": "markdown",
   "id": "e71a09cd",
   "metadata": {},
   "source": [
    "where() is used for conditional selection and manipulation of array\n",
    "\n",
    "  synytax:\n",
    "        np.where(logical test, value if True, value if false)"
   ]
  },
  {
   "cell_type": "code",
   "execution_count": 4,
   "id": "c771219f",
   "metadata": {},
   "outputs": [
    {
     "data": {
      "text/plain": [
       "array([ 12, 102,  18,   0,   0])"
      ]
     },
     "execution_count": 4,
     "metadata": {},
     "output_type": "execute_result"
    }
   ],
   "source": [
    "import numpy as np\n",
    "inventory_array = np.array([12, 102, 18, 0, 0])\n",
    "inventory_array"
   ]
  },
  {
   "cell_type": "code",
   "execution_count": 5,
   "id": "054b594d",
   "metadata": {},
   "outputs": [],
   "source": [
    "product_array = np.array(['fruits', 'vegetables', 'cereals', 'dairy', 'eggs'])"
   ]
  },
  {
   "cell_type": "code",
   "execution_count": 6,
   "id": "e35f2256",
   "metadata": {},
   "outputs": [
    {
     "data": {
      "text/plain": [
       "array(['fruits', 'vegetables', 'cereals', 'dairy', 'eggs'], dtype='<U10')"
      ]
     },
     "execution_count": 6,
     "metadata": {},
     "output_type": "execute_result"
    }
   ],
   "source": [
    "product_array"
   ]
  },
  {
   "cell_type": "code",
   "execution_count": 7,
   "id": "b8900fcc",
   "metadata": {},
   "outputs": [
    {
     "data": {
      "text/plain": [
       "array(['In Stock', 'In Stock', 'In Stock', 'Out of Stock', 'Out of Stock'],\n",
       "      dtype='<U12')"
      ]
     },
     "execution_count": 7,
     "metadata": {},
     "output_type": "execute_result"
    }
   ],
   "source": [
    "#if inventory is 0 or negative assign 'Out of Stock', otherwise 'In Stock'\n",
    "\n",
    "np.where(inventory_array <=0, 'Out of Stock', 'In Stock')"
   ]
  },
  {
   "cell_type": "code",
   "execution_count": 8,
   "id": "ada76db7",
   "metadata": {},
   "outputs": [
    {
     "data": {
      "text/plain": [
       "array(['fruits', 'vegetables', 'cereals', 'Out of Stock', 'Out of Stock'],\n",
       "      dtype='<U12')"
      ]
     },
     "execution_count": 8,
     "metadata": {},
     "output_type": "execute_result"
    }
   ],
   "source": [
    "#If inventroy is 0 or -ve assign out of stock otherwise product value\n",
    "np.where(inventory_array <=0, 'Out of Stock', product_array)"
   ]
  },
  {
   "cell_type": "code",
   "execution_count": 9,
   "id": "b8bdfcee",
   "metadata": {},
   "outputs": [
    {
     "data": {
      "text/plain": [
       "array([ 0,  1,  2,  3,  4,  5,  6,  7,  8,  9, 10, 11, 12, 13, 14, 15, 16,\n",
       "       17, 18, 19])"
      ]
     },
     "execution_count": 9,
     "metadata": {},
     "output_type": "execute_result"
    }
   ],
   "source": [
    "aa = np.arange(20)\n",
    "aa"
   ]
  },
  {
   "cell_type": "code",
   "execution_count": 14,
   "id": "a880ed48",
   "metadata": {},
   "outputs": [
    {
     "data": {
      "text/plain": [
       "(array([13, 14, 15, 16, 17, 18, 19], dtype=int64),)"
      ]
     },
     "execution_count": 14,
     "metadata": {},
     "output_type": "execute_result"
    }
   ],
   "source": [
    "result = np.where(aa > 12)\n",
    "result"
   ]
  },
  {
   "cell_type": "code",
   "execution_count": null,
   "id": "71124616",
   "metadata": {},
   "outputs": [],
   "source": []
  }
 ],
 "metadata": {
  "kernelspec": {
   "display_name": "Python 3",
   "language": "python",
   "name": "python3"
  },
  "language_info": {
   "codemirror_mode": {
    "name": "ipython",
    "version": 3
   },
   "file_extension": ".py",
   "mimetype": "text/x-python",
   "name": "python",
   "nbconvert_exporter": "python",
   "pygments_lexer": "ipython3",
   "version": "3.8.8"
  }
 },
 "nbformat": 4,
 "nbformat_minor": 5
}
